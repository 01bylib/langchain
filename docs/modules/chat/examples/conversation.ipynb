{
 "cells": [
  {
   "cell_type": "markdown",
   "id": "0b12a588",
   "metadata": {},
   "source": [
    "# Conversation Chain"
   ]
  },
  {
   "cell_type": "code",
   "execution_count": 1,
   "id": "319061e6",
   "metadata": {},
   "outputs": [],
   "source": [
    "from langchain.chat.conversation import ConversationChain\n",
    "from langchain.chat_models import ChatOpenAI"
   ]
  },
  {
   "cell_type": "code",
   "execution_count": 2,
   "id": "4dbbb98f",
   "metadata": {},
   "outputs": [],
   "source": [
    "model = ChatOpenAI()"
   ]
  },
  {
   "cell_type": "code",
   "execution_count": 3,
   "id": "164af02b",
   "metadata": {},
   "outputs": [],
   "source": [
    "chain = ConversationChain.from_model(model=model)"
   ]
  },
  {
   "cell_type": "code",
   "execution_count": 4,
   "id": "11830ac7",
   "metadata": {},
   "outputs": [
    {
     "data": {
      "text/plain": [
       "'\\n\\nHello there! How can I assist you today?'"
      ]
     },
     "execution_count": 4,
     "metadata": {},
     "output_type": "execute_result"
    }
   ],
   "source": [
    "chain.run(\"hi!\")"
   ]
  },
  {
   "cell_type": "code",
   "execution_count": 5,
   "id": "8182f6c8",
   "metadata": {},
   "outputs": [
    {
     "data": {
      "text/plain": [
       "\"I'm sorry, as an AI language model I don't have access to your location. Can you please tell me your current location?\""
      ]
     },
     "execution_count": 5,
     "metadata": {},
     "output_type": "execute_result"
    }
   ],
   "source": [
    "chain.run('where am i?')"
   ]
  },
  {
   "cell_type": "code",
   "execution_count": 6,
   "id": "ecc2fbbb",
   "metadata": {},
   "outputs": [
    {
     "data": {
      "text/plain": [
       "\"I apologize for the confusion. As an AI language model, I don't have access to your location data. How can I assist you today?\""
      ]
     },
     "execution_count": 6,
     "metadata": {},
     "output_type": "execute_result"
    }
   ],
   "source": [
    "chain.run('what did you say?')"
   ]
  },
  {
   "cell_type": "code",
   "execution_count": null,
   "id": "614977d8",
   "metadata": {},
   "outputs": [],
   "source": []
  }
 ],
 "metadata": {
  "kernelspec": {
   "display_name": "Python 3 (ipykernel)",
   "language": "python",
   "name": "python3"
  },
  "language_info": {
   "codemirror_mode": {
    "name": "ipython",
    "version": 3
   },
   "file_extension": ".py",
   "mimetype": "text/x-python",
   "name": "python",
   "nbconvert_exporter": "python",
   "pygments_lexer": "ipython3",
   "version": "3.9.1"
  }
 },
 "nbformat": 4,
 "nbformat_minor": 5
}
