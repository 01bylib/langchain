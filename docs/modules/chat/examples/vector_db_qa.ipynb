{
 "cells": [
  {
   "cell_type": "markdown",
   "id": "06b00f2b",
   "metadata": {},
   "source": [
    "# Vector DB Question Answering"
   ]
  },
  {
   "cell_type": "code",
   "execution_count": 1,
   "id": "4990086a",
   "metadata": {},
   "outputs": [],
   "source": [
    "from langchain.embeddings.openai import OpenAIEmbeddings\n",
    "from langchain.text_splitter import CharacterTextSplitter\n",
    "from langchain.vectorstores import Chroma\n",
    "from langchain.docstore.document import Document\n",
    "from langchain.prompts import PromptTemplate\n",
    "from langchain.indexes.vectorstore import VectorstoreIndexCreator"
   ]
  },
  {
   "cell_type": "code",
   "execution_count": 2,
   "id": "3a982715",
   "metadata": {},
   "outputs": [],
   "source": [
    "index_creator = VectorstoreIndexCreator()"
   ]
  },
  {
   "cell_type": "code",
   "execution_count": 4,
   "id": "1b2a6568",
   "metadata": {},
   "outputs": [
    {
     "name": "stdout",
     "output_type": "stream",
     "text": [
      "Running Chroma using direct local API.\n",
      "Using DuckDB in-memory for database. Data will be transient.\n"
     ]
    }
   ],
   "source": [
    "from langchain.document_loaders import TextLoader\n",
    "loader = TextLoader('../../state_of_the_union.txt')\n",
    "docsearch = index_creator.from_loaders([loader]).vectorstore"
   ]
  },
  {
   "cell_type": "code",
   "execution_count": 6,
   "id": "7d410fd6",
   "metadata": {},
   "outputs": [],
   "source": [
    "from langchain.chat.vector_db_qa import VectorDBQA\n",
    "from langchain.chat_models import ChatOpenAI"
   ]
  },
  {
   "cell_type": "code",
   "execution_count": 8,
   "id": "89f2b56c",
   "metadata": {},
   "outputs": [],
   "source": [
    "chain = VectorDBQA.from_model(model = ChatOpenAI(temperature=0), vectorstore=docsearch)"
   ]
  },
  {
   "cell_type": "code",
   "execution_count": 10,
   "id": "7bac7b99",
   "metadata": {},
   "outputs": [
    {
     "data": {
      "text/plain": [
       "'The President honored Justice Stephen Breyer, an Army veteran, Constitutional scholar, and retiring Justice of the United States Supreme Court, for his dedicated service to the country. The President also mentioned that one of the most serious constitutional responsibilities a President has is nominating someone to serve on the United States Supreme Court, and he nominated Circuit Court of Appeals Judge Ketanji Brown Jackson to continue Justice Breyer’s legacy of excellence.'"
      ]
     },
     "execution_count": 10,
     "metadata": {},
     "output_type": "execute_result"
    }
   ],
   "source": [
    "query = \"What did the president say about Justice Breyer\"\n",
    "chain.run(query=query)"
   ]
  },
  {
   "cell_type": "code",
   "execution_count": null,
   "id": "d9f3a746",
   "metadata": {},
   "outputs": [],
   "source": []
  }
 ],
 "metadata": {
  "kernelspec": {
   "display_name": "Python 3 (ipykernel)",
   "language": "python",
   "name": "python3"
  },
  "language_info": {
   "codemirror_mode": {
    "name": "ipython",
    "version": 3
   },
   "file_extension": ".py",
   "mimetype": "text/x-python",
   "name": "python",
   "nbconvert_exporter": "python",
   "pygments_lexer": "ipython3",
   "version": "3.9.1"
  }
 },
 "nbformat": 4,
 "nbformat_minor": 5
}
