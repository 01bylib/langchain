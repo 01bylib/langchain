{
 "cells": [
  {
   "cell_type": "code",
   "execution_count": 1,
   "id": "4990086a",
   "metadata": {},
   "outputs": [],
   "source": [
    "from langchain.embeddings.openai import OpenAIEmbeddings\n",
    "from langchain.text_splitter import CharacterTextSplitter\n",
    "from langchain.vectorstores import Chroma\n",
    "from langchain.docstore.document import Document\n",
    "from langchain.prompts import PromptTemplate\n",
    "from langchain.indexes.vectorstore import VectorstoreIndexCreator\n",
    "from langchain import llms"
   ]
  },
  {
   "cell_type": "code",
   "execution_count": 2,
   "id": "3a982715",
   "metadata": {},
   "outputs": [],
   "source": [
    "index_creator = VectorstoreIndexCreator()"
   ]
  },
  {
   "cell_type": "code",
   "execution_count": 3,
   "id": "1b2a6568",
   "metadata": {},
   "outputs": [
    {
     "name": "stdout",
     "output_type": "stream",
     "text": [
      "Running Chroma using direct local API.\n",
      "Using DuckDB in-memory for database. Data will be transient.\n"
     ]
    }
   ],
   "source": [
    "from langchain.document_loaders import TextLoader\n",
    "loader = TextLoader('../state_of_the_union.txt')\n",
    "docsearch = index_creator.from_loaders([loader]).vectorstore"
   ]
  },
  {
   "cell_type": "code",
   "execution_count": 4,
   "id": "7d410fd6",
   "metadata": {},
   "outputs": [],
   "source": [
    "from langchain.chat.chat_vector_db import ChatVectorDBChain\n",
    "from langchain.chat_models.openai import OpenAI"
   ]
  },
  {
   "cell_type": "markdown",
   "id": "e606d9e7",
   "metadata": {},
   "source": [
    "## Memory outside the chain"
   ]
  },
  {
   "cell_type": "code",
   "execution_count": 5,
   "id": "71378b64",
   "metadata": {},
   "outputs": [],
   "source": [
    "chain = ChatVectorDBChain.from_llm(model = OpenAI(temperature=0), llm=llms.OpenAI(temperature=0), vectorstore=docsearch)"
   ]
  },
  {
   "cell_type": "code",
   "execution_count": 6,
   "id": "aa1c1942",
   "metadata": {},
   "outputs": [],
   "source": [
    "from langchain.memory.chat_memory import ChatMemory"
   ]
  },
  {
   "cell_type": "code",
   "execution_count": 7,
   "id": "6cbafc97",
   "metadata": {},
   "outputs": [],
   "source": [
    "memory = ChatMemory()"
   ]
  },
  {
   "cell_type": "code",
   "execution_count": 8,
   "id": "7bac7b99",
   "metadata": {},
   "outputs": [
    {
     "data": {
      "text/plain": [
       "\"The President said that he nominated Circuit Court of Appeals Judge Ketanji Brown Jackson for the United States Supreme Court, and that she is one of the nation's top legal minds who will continue Justice Breyer's legacy of excellence. He also mentioned that she has received broad support from various groups, including the Fraternal Order of Police and former judges appointed by Democrats and Republicans.\""
      ]
     },
     "execution_count": 8,
     "metadata": {},
     "output_type": "execute_result"
    }
   ],
   "source": [
    "query = \"What did the president say about Ketanji Brown Jackson\"\n",
    "answer = chain.run(question=query, chat_history=memory.messages)\n",
    "answer"
   ]
  },
  {
   "cell_type": "code",
   "execution_count": 9,
   "id": "d9f3a746",
   "metadata": {},
   "outputs": [],
   "source": [
    "memory.add_user_message(query)\n",
    "memory.add_ai_message(answer)"
   ]
  },
  {
   "cell_type": "code",
   "execution_count": 10,
   "id": "3c92b39a",
   "metadata": {},
   "outputs": [
    {
     "data": {
      "text/plain": [
       "'Ketanji Brown Jackson has not yet been confirmed as a United States Supreme Court Justice. She has been nominated by President Biden to succeed Justice Stephen Breyer, who is retiring.'"
      ]
     },
     "execution_count": 10,
     "metadata": {},
     "output_type": "execute_result"
    }
   ],
   "source": [
    "query = \"Did the president say who she suceeded\"\n",
    "chain.run(question=query, chat_history=memory.messages)"
   ]
  },
  {
   "cell_type": "code",
   "execution_count": 11,
   "id": "41bc7676",
   "metadata": {},
   "outputs": [
    {
     "data": {
      "text/plain": [
       "\"The President said that he nominated Circuit Court of Appeals Judge Ketanji Brown Jackson for the United States Supreme Court, and that she is one of the nation's top legal minds who will continue Justice Breyer's legacy of excellence. He also mentioned that she has received broad support from various groups, including the Fraternal Order of Police and former judges appointed by Democrats and Republicans.\""
      ]
     },
     "execution_count": 11,
     "metadata": {},
     "output_type": "execute_result"
    }
   ],
   "source": [
    "answer"
   ]
  },
  {
   "cell_type": "markdown",
   "id": "439cc4be",
   "metadata": {},
   "source": [
    "## Memory in the chain"
   ]
  },
  {
   "cell_type": "code",
   "execution_count": 5,
   "id": "8a0a66ce",
   "metadata": {},
   "outputs": [],
   "source": [
    "from langchain.chat.memory import ChatHistoryMemory\n",
    "chain = ChatVectorDBChain.from_llm(\n",
    "    model = OpenAI(temperature=0), \n",
    "    llm=llms.OpenAI(temperature=0), \n",
    "    vectorstore=docsearch,\n",
    "    memory=ChatHistoryMemory(input_key=\"question\")\n",
    ")"
   ]
  },
  {
   "cell_type": "code",
   "execution_count": 6,
   "id": "d1d3a995",
   "metadata": {},
   "outputs": [
    {
     "data": {
      "text/plain": [
       "'The President said that he nominated Circuit Court of Appeals Judge Ketanji Brown Jackson for the United States Supreme Court, and that she is one of our nation’s top legal minds who will continue Justice Breyer’s legacy of excellence. He also mentioned that she is a former top litigator in private practice, a former federal public defender, and comes from a family of public school educators and police officers.'"
      ]
     },
     "execution_count": 6,
     "metadata": {},
     "output_type": "execute_result"
    }
   ],
   "source": [
    "query = \"What did the president say about Ketanji Brown Jackson\"\n",
    "answer = chain.run(question=query)\n",
    "answer"
   ]
  },
  {
   "cell_type": "code",
   "execution_count": 7,
   "id": "72564ced",
   "metadata": {},
   "outputs": [
    {
     "data": {
      "text/plain": [
       "'Ketanji Brown Jackson has not yet been confirmed as a United States Supreme Court Justice. She has been nominated by President Biden to succeed Justice Stephen Breyer, who is retiring.'"
      ]
     },
     "execution_count": 7,
     "metadata": {},
     "output_type": "execute_result"
    }
   ],
   "source": [
    "query = \"Did the president say who she suceeded\"\n",
    "chain.run(question=query)"
   ]
  },
  {
   "cell_type": "code",
   "execution_count": null,
   "id": "1d2cb862",
   "metadata": {},
   "outputs": [],
   "source": []
  }
 ],
 "metadata": {
  "kernelspec": {
   "display_name": "Python 3 (ipykernel)",
   "language": "python",
   "name": "python3"
  },
  "language_info": {
   "codemirror_mode": {
    "name": "ipython",
    "version": 3
   },
   "file_extension": ".py",
   "mimetype": "text/x-python",
   "name": "python",
   "nbconvert_exporter": "python",
   "pygments_lexer": "ipython3",
   "version": "3.9.1"
  }
 },
 "nbformat": 4,
 "nbformat_minor": 5
}
