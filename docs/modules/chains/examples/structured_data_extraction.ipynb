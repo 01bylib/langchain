{
 "cells": [
  {
   "cell_type": "markdown",
   "id": "9bb1293b",
   "metadata": {},
   "source": [
    "# Structured Data Extraction\n",
    "\n",
    "This notebook goes over how to use a chain to extract structured data from text.\n",
    "\n",
    "This heavily utilizes the fabulous [kor library](https://eyurtsev.github.io/kor/index.html). As a result, it only works for Python 3.10+"
   ]
  },
  {
   "cell_type": "code",
   "execution_count": null,
   "id": "82ba478c",
   "metadata": {},
   "outputs": [],
   "source": [
    "!pip install kor"
   ]
  },
  {
   "cell_type": "code",
   "execution_count": 1,
   "id": "d4b12abd",
   "metadata": {},
   "outputs": [],
   "source": [
    "from kor.extraction import Extractor\n",
    "from kor.nodes import Object, Text, Number\n",
    "from kor.llms import OpenAIChatCompletion, OpenAICompletion"
   ]
  },
  {
   "cell_type": "code",
   "execution_count": 2,
   "id": "15726529",
   "metadata": {},
   "outputs": [],
   "source": [
    "llm = OpenAIChatCompletion(model=\"gpt-3.5-turbo\")"
   ]
  },
  {
   "cell_type": "code",
   "execution_count": 3,
   "id": "8c49e1ba",
   "metadata": {},
   "outputs": [],
   "source": [
    "model = Extractor(llm)"
   ]
  },
  {
   "cell_type": "code",
   "execution_count": 4,
   "id": "752e408d",
   "metadata": {},
   "outputs": [],
   "source": [
    "schema = Text(\n",
    "    id=\"first_name\",\n",
    "    description=\"The first name of a person\",\n",
    "    examples=[(\"I am billy.\", \"billy\"), (\"John Smith is 33 years old\", \"John\")],\n",
    ")"
   ]
  },
  {
   "cell_type": "code",
   "execution_count": null,
   "id": "50fe683e",
   "metadata": {},
   "outputs": [],
   "source": []
  }
 ],
 "metadata": {
  "kernelspec": {
   "display_name": "Python 3 (ipykernel)",
   "language": "python",
   "name": "python3"
  },
  "language_info": {
   "codemirror_mode": {
    "name": "ipython",
    "version": 3
   },
   "file_extension": ".py",
   "mimetype": "text/x-python",
   "name": "python",
   "nbconvert_exporter": "python",
   "pygments_lexer": "ipython3",
   "version": "3.10.1"
  }
 },
 "nbformat": 4,
 "nbformat_minor": 5
}
