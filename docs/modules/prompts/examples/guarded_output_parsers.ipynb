{
 "cells": [
  {
   "cell_type": "code",
   "execution_count": 1,
   "id": "10d915e4",
   "metadata": {},
   "outputs": [],
   "source": [
    "%load_ext autoreload\n",
    "%autoreload 2"
   ]
  },
  {
   "cell_type": "markdown",
   "id": "c09a2430",
   "metadata": {},
   "source": [
    "# Guarded Output Parsers\n",
    "\n",
    "With `OutputParser`s (see `./output_parsers.ipynb`), we can prompt a LM to format its completion with a desired schema. The `PydanticOutputParser` is the most powerful parser, allowing us to specify arbitrary json schema.\n",
    "\n",
    "Unfortunately, small models to date don't have capacity to generate well-formed, schema-adherent json while large models still sometimes fail.\n",
    "\n",
    "In this notebook, we showcase a `GuardedOutputParser` which can be dropped in for an `OutputParser` in an `LLMChain`. It will catch errors at parsing time and try resolve them, initially by re-invoking an LLM.\n",
    "\n",
    "Below are some examples:"
   ]
  },
  {
   "cell_type": "code",
   "execution_count": 2,
   "id": "3db24806",
   "metadata": {},
   "outputs": [],
   "source": [
    "from pydantic import BaseModel, Field\n",
    "from typing import List\n",
    "\n",
    "from langchain.chains import LLMChain\n",
    "from langchain.guardrails.parsing import GuardedOutputParser\n",
    "from langchain.llms import OpenAI\n",
    "from langchain.output_parsers import PydanticOutputParser, OutputParserException\n",
    "from langchain.prompts import PromptTemplate"
   ]
  },
  {
   "cell_type": "markdown",
   "id": "8d40796c",
   "metadata": {},
   "source": [
    "## 1st example"
   ]
  },
  {
   "cell_type": "code",
   "execution_count": 3,
   "id": "eec61f2d",
   "metadata": {},
   "outputs": [],
   "source": [
    "# Pydantic data structure.\n",
    "class FloatArray(BaseModel):\n",
    "    values: List[float] = Field(description=\"list of floats\")\n",
    "\n",
    "# Query that will populate the data structure.\n",
    "float_array_query = \"Write out a few terms of fiboacci.\""
   ]
  },
  {
   "cell_type": "code",
   "execution_count": 4,
   "id": "42b8f744",
   "metadata": {},
   "outputs": [],
   "source": [
    "# Declare a parser and prompt.\n",
    "parser = PydanticOutputParser(pydantic_object=FloatArray)\n",
    "\n",
    "prompt = PromptTemplate(\n",
    "    template=\"Answer the user query.\\n{format_instructions}\\n{query}\\n\",\n",
    "    input_variables=[\"query\"],\n",
    "    partial_variables={\"format_instructions\": parser.get_format_instructions()}\n",
    ")\n",
    "\n",
    "# Currently, the parser is set on the prompt template.\n",
    "prompt.output_parser = parser"
   ]
  },
  {
   "cell_type": "code",
   "execution_count": 6,
   "id": "67a1d356",
   "metadata": {},
   "outputs": [
    {
     "name": "stdout",
     "output_type": "stream",
     "text": [
      "\n",
      "\n",
      "\u001b[1m> Entering new LLMChain chain...\u001b[0m\n",
      "Prompt after formatting:\n",
      "\u001b[32;1m\u001b[1;3mAnswer the user query.\n",
      "The output should be formatted as a JSON instance that conforms to the JSON schema below. For example, the object {\"foo\": [\"bar\", \"baz\"]} conforms to the schema {\"foo\": {\"description\": \"a list of strings field\", \"type\": \"string\"}}.\n",
      "\n",
      "Here is the output schema:\n",
      "```\n",
      "{\"values\": {\"description\": \"list of floats\", \"type\": \"array\"}}\n",
      "```\n",
      "Write out a few terms of fiboacci.\n",
      "\u001b[0m\n",
      "Dang!\n",
      "Failed to parse FloatArray from completion \n",
      "Fiboacci is a sequence of numbers defined by the Fibonacci sequence: 0, 1, 1, 2, 3, 5, 8, 13, 21.. Got: Expecting value: line 1 column 1 (char 0)\n"
     ]
    }
   ],
   "source": [
    "# For demonstration's sake, we'll use a \"small\" model that probably won't generate json properly.\n",
    "llm_chain = LLMChain(\n",
    "    prompt=prompt,\n",
    "    llm=OpenAI(model_name=\"text-curie-001\"),\n",
    "    verbose=True)\n",
    "\n",
    "try:\n",
    "    llm_chain.predict(query=float_array_query)\n",
    "except OutputParserException as e:\n",
    "    print(\"Dang!\")\n",
    "    print(e)"
   ]
  },
  {
   "cell_type": "code",
   "execution_count": 7,
   "id": "c568ebbb",
   "metadata": {},
   "outputs": [
    {
     "name": "stdout",
     "output_type": "stream",
     "text": [
      "\n",
      "\n",
      "\u001b[1m> Entering new LLMChain chain...\u001b[0m\n",
      "Prompt after formatting:\n",
      "\u001b[32;1m\u001b[1;3mAnswer the user query.\n",
      "The output should be formatted as a JSON instance that conforms to the JSON schema below. For example, the object {\"foo\": [\"bar\", \"baz\"]} conforms to the schema {\"foo\": {\"description\": \"a list of strings field\", \"type\": \"string\"}}.\n",
      "\n",
      "Here is the output schema:\n",
      "```\n",
      "{\"values\": {\"description\": \"list of floats\", \"type\": \"array\"}}\n",
      "```\n",
      "Write out a few terms of fiboacci.\n",
      "\u001b[0m\n",
      "\n",
      "\u001b[1m> Finished chain.\u001b[0m\n"
     ]
    },
    {
     "data": {
      "text/plain": [
       "FloatArray(values=[0.0, 1.0, 1.0, 2.0, 3.0, 5.0, 8.0, 13.0, 21.0, 34.0, 55.0, 89.0, 144.0])"
      ]
     },
     "execution_count": 7,
     "metadata": {},
     "output_type": "execute_result"
    }
   ],
   "source": [
    "# We can replace the parser with a guarded parser that tries to fix errors with a bigger model.\n",
    "guarded_parser = GuardedOutputParser(\n",
    "    parser=parser, retry_llm=OpenAI(model_name=\"text-davinci-003\"))\n",
    "prompt.output_parser = guarded_parser\n",
    "\n",
    "llm_chain.predict(query=float_array_query)"
   ]
  },
  {
   "cell_type": "markdown",
   "id": "aa0e7b3c",
   "metadata": {},
   "source": [
    "This example is demonstrative though. If your goal is to generate data structures, probably you'll want to start a large enough model."
   ]
  },
  {
   "cell_type": "code",
   "execution_count": null,
   "id": "3edbc886",
   "metadata": {},
   "outputs": [],
   "source": []
  },
  {
   "cell_type": "code",
   "execution_count": null,
   "id": "d83cfb61",
   "metadata": {},
   "outputs": [],
   "source": []
  }
 ],
 "metadata": {
  "kernelspec": {
   "display_name": "Python 3 (ipykernel)",
   "language": "python",
   "name": "python3"
  },
  "language_info": {
   "codemirror_mode": {
    "name": "ipython",
    "version": 3
   },
   "file_extension": ".py",
   "mimetype": "text/x-python",
   "name": "python",
   "nbconvert_exporter": "python",
   "pygments_lexer": "ipython3",
   "version": "3.9.0"
  }
 },
 "nbformat": 4,
 "nbformat_minor": 5
}
