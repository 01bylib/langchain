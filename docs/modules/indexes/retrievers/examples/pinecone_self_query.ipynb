{
 "cells": [
  {
   "cell_type": "code",
   "execution_count": 24,
   "id": "68374fbd",
   "metadata": {},
   "outputs": [],
   "source": [
    "import pandas as pd\n",
    "\n",
    "from langchain.schema import Document\n",
    "\n",
    "\n",
    "# Top 50 Spotify music dataset\n",
    "song_df = pd.read_csv(\"https://gist.githubusercontent.com/rioto9858/ff72b72b3bf5754d29dd1ebf898fc893/raw/1164a139a780b0826faef36c865da65f2d3573e0/top50MusicFrom2010-2019.csv\")\n",
    "docs = [\n",
    "    Document(page_content=t, metadata={\"artist\": a, \"genre\": g, \"year\": y})\n",
    "    for _, (t, a, g, y) in song_df[[\"title\", \"artist\", \"the genre of the track\", \"year\"]].sample(100).iterrows()\n",
    "]"
   ]
  },
  {
   "cell_type": "code",
   "execution_count": null,
   "id": "bcbe04d9",
   "metadata": {},
   "outputs": [],
   "source": [
    "import os\n",
    "\n",
    "import pinecone\n",
    "\n",
    "from langchain.embeddings.openai import OpenAIEmbeddings\n",
    "from langchain.vectorstores import Pinecone\n",
    "\n",
    "\n",
    "# You'll need to sign up for Pinecone and get your credentials to run this demo.\n",
    "pinecone.init(api_key=os.environ[\"PINECONE_API_KEY\"], environment=os.environ[\"PINECONE_ENV\"])\n",
    "pinecone.create_index(\"langchain-self-retriever-demo\", dimension=1536)\n",
    "vectorstore = Pinecone.from_documents(docs, OpenAIEmbeddings(), index_name=\"langchain-self-retriever-demo\")\n",
    "\n",
    "# # If you've already created the index:\n",
    "# vectorstore = Pinecone.from_existing_index(index_name=\"langchain-self-retriever-demo\", embedding=OpenAIEmbeddings())"
   ]
  },
  {
   "cell_type": "markdown",
   "id": "fbd392df",
   "metadata": {},
   "source": [
    "# Self querying"
   ]
  },
  {
   "cell_type": "code",
   "execution_count": 7,
   "id": "ab1128d7",
   "metadata": {},
   "outputs": [],
   "source": [
    "from langchain.llms import OpenAI\n",
    "from langchain.retrievers.pinecone_self_query import (\n",
    "    MetadataFieldInfo,\n",
    "    PineconeSelfQueryRetriever, \n",
    "    VectorStoreExtendedInfo, \n",
    ")"
   ]
  },
  {
   "cell_type": "code",
   "execution_count": 33,
   "id": "526b0aa2",
   "metadata": {},
   "outputs": [],
   "source": [
    "vectorstore_info = VectorStoreExtendedInfo(\n",
    "    vectorstore=vectorstore, \n",
    "    name=\"Top 50 Spotify Songs\", \n",
    "    description=\"The most popular songs on Spotify\", \n",
    "    metadata_field_info=[\n",
    "        MetadataFieldInfo(\n",
    "            name=\"artist\",\n",
    "            description=\"The artist who released the song\", \n",
    "            type=\"string\", \n",
    "            examples=song_df['artist'].sample(3).tolist()\n",
    "        ),\n",
    "        MetadataFieldInfo(\n",
    "            name=\"genre\",\n",
    "            description=\"The genre of the song\", \n",
    "            type=\"string\", \n",
    "            examples=song_df['the genre of the track'].sample(3).tolist()\n",
    "        ),\n",
    "        MetadataFieldInfo(\n",
    "            name=\"year\",\n",
    "            description=\"The year the song was released\", \n",
    "            type=\"integer\", \n",
    "            examples=song_df['year'].sample(3).tolist()\n",
    "        ),\n",
    "    ]\n",
    ")"
   ]
  },
  {
   "cell_type": "code",
   "execution_count": 34,
   "id": "c8e840f0",
   "metadata": {
    "scrolled": true
   },
   "outputs": [],
   "source": [
    "retriever = PineconeSelfQueryRetriever.from_vectorstore_info(OpenAI(temperature=0), vectorstore_info)"
   ]
  },
  {
   "cell_type": "code",
   "execution_count": 35,
   "id": "554171d1",
   "metadata": {
    "scrolled": true
   },
   "outputs": [
    {
     "name": "stdout",
     "output_type": "stream",
     "text": [
      "{'search_string': 'love', 'metadata_filter': {}}\n"
     ]
    },
    {
     "data": {
      "text/plain": [
       "[Document(page_content='Love', metadata={'artist': 'Lana Del Rey', 'genre': 'art pop', 'year': 2017.0}),\n",
       " Document(page_content='L.A.LOVE (la la)', metadata={'artist': 'Fergie', 'genre': 'dance pop', 'year': 2015.0}),\n",
       " Document(page_content='human', metadata={'artist': 'Christina Perri', 'genre': 'dance pop', 'year': 2014.0}),\n",
       " Document(page_content='Someone You Loved', metadata={'artist': 'Lewis Capaldi', 'genre': 'pop', 'year': 2019.0})]"
      ]
     },
     "execution_count": 35,
     "metadata": {},
     "output_type": "execute_result"
    }
   ],
   "source": [
    "retriever.get_relevant_documents(\"What are some songs about love\")"
   ]
  },
  {
   "cell_type": "code",
   "execution_count": 37,
   "id": "96e08d26",
   "metadata": {},
   "outputs": [
    {
     "name": "stdout",
     "output_type": "stream",
     "text": [
      "{'search_string': ' ', 'metadata_filter': {'genre': {'$eq': 'pop'}, 'year': {'$eq': 2012}}}\n"
     ]
    },
    {
     "data": {
      "text/plain": [
       "[Document(page_content='I Knew You Were Trouble.', metadata={'artist': 'Taylor Swift', 'genre': 'pop', 'year': 2012.0}),\n",
       " Document(page_content='One More Night', metadata={'artist': 'Maroon 5', 'genre': 'pop', 'year': 2012.0})]"
      ]
     },
     "execution_count": 37,
     "metadata": {},
     "output_type": "execute_result"
    }
   ],
   "source": [
    "retriever.get_relevant_documents(\"What are some popular pop songs from 2012\")"
   ]
  },
  {
   "cell_type": "code",
   "execution_count": 46,
   "id": "2651d2f6",
   "metadata": {},
   "outputs": [
    {
     "name": "stdout",
     "output_type": "stream",
     "text": [
      "{'search_string': 'money OR success', 'metadata_filter': {'genre': {'$in': ['dance pop', 'art pop']}, 'year': {'$gte': 2015}}}\n"
     ]
    },
    {
     "data": {
      "text/plain": [
       "[Document(page_content='Love', metadata={'artist': 'Lana Del Rey', 'genre': 'art pop', 'year': 2017.0}),\n",
       " Document(page_content='Confident', metadata={'artist': 'Demi Lovato', 'genre': 'dance pop', 'year': 2016.0}),\n",
       " Document(page_content='Up', metadata={'artist': 'Olly Murs', 'genre': 'dance pop', 'year': 2015.0}),\n",
       " Document(page_content='Booty', metadata={'artist': 'Jennifer Lopez', 'genre': 'dance pop', 'year': 2015.0})]"
      ]
     },
     "execution_count": 46,
     "metadata": {},
     "output_type": "execute_result"
    }
   ],
   "source": [
    "retriever.get_relevant_documents(\"What are some dance or art pop songs that mention money or success after 2015\")"
   ]
  },
  {
   "cell_type": "code",
   "execution_count": 48,
   "id": "e0f64adc",
   "metadata": {},
   "outputs": [
    {
     "name": "stdout",
     "output_type": "stream",
     "text": [
      "{'search_string': 'Maroon 5', 'metadata_filter': {'artist': {'$eq': 'Maroon 5'}, 'genre': {'$eq': 'rap'}}}\n"
     ]
    },
    {
     "data": {
      "text/plain": [
       "[]"
      ]
     },
     "execution_count": 48,
     "metadata": {},
     "output_type": "execute_result"
    }
   ],
   "source": [
    "retriever.get_relevant_documents(\"Did Maroon 5 release any popular rap songs\")"
   ]
  },
  {
   "cell_type": "code",
   "execution_count": null,
   "id": "d42fc1bd",
   "metadata": {},
   "outputs": [],
   "source": []
  }
 ],
 "metadata": {
  "kernelspec": {
   "display_name": "venv",
   "language": "python",
   "name": "venv"
  },
  "language_info": {
   "codemirror_mode": {
    "name": "ipython",
    "version": 3
   },
   "file_extension": ".py",
   "mimetype": "text/x-python",
   "name": "python",
   "nbconvert_exporter": "python",
   "pygments_lexer": "ipython3",
   "version": "3.9.1"
  }
 },
 "nbformat": 4,
 "nbformat_minor": 5
}
