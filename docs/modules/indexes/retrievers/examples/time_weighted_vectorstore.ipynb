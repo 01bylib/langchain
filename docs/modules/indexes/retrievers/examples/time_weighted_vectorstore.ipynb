{
 "cells": [
  {
   "cell_type": "markdown",
   "id": "a90b7557",
   "metadata": {},
   "source": [
    "# Time Weighted VectorStore Retriever\n",
    "\n",
    "This retriever uses a combination of semantic similarity and recency.\n",
    "\n",
    "The algorithm for combining them is basically:\n",
    "\n",
    "```\n",
    "semantic_similarity + decay_factor ** hours_passed\n",
    "```\n",
    "\n",
    "Notably, hours_passed refers to the hours passed since the object in the retriever was last accessed, not since it ws created."
   ]
  },
  {
   "cell_type": "code",
   "execution_count": 1,
   "id": "f22cc96b",
   "metadata": {},
   "outputs": [],
   "source": [
    "from langchain.retrievers import TimeWeightedVectorStoreRetriever\n",
    "import faiss\n",
    "from langchain.vectorstores import FAISS\n",
    "from langchain.docstore import InMemoryDocstore\n",
    "from langchain.embeddings import OpenAIEmbeddings\n",
    "from langchain.schema import Document\n",
    "import time"
   ]
  },
  {
   "cell_type": "markdown",
   "id": "6af7ea6b",
   "metadata": {},
   "source": [
    "## High decay factor\n",
    "\n",
    "With a relatively high decay factor, this will mostly return documents that are semantically similar"
   ]
  },
  {
   "cell_type": "code",
   "execution_count": 2,
   "id": "c10e7696",
   "metadata": {},
   "outputs": [],
   "source": [
    "# Define your embedding model\n",
    "embeddings_model = OpenAIEmbeddings()\n",
    "# Initialize the vectorstore as empty\n",
    "embedding_size = 1536\n",
    "index = faiss.IndexFlatL2(embedding_size)\n",
    "vectorstore = FAISS(embeddings_model.embed_query, index, InMemoryDocstore({}), {})\n",
    "retriever = TimeWeightedVectorStoreRetriever(vectorstore=vectorstore, decay_factor=.99, k=1) "
   ]
  },
  {
   "cell_type": "code",
   "execution_count": 3,
   "id": "86dbadb9",
   "metadata": {},
   "outputs": [
    {
     "data": {
      "text/plain": [
       "['f6303531-d3a5-44af-b7c8-e3cf76916ce5']"
      ]
     },
     "execution_count": 3,
     "metadata": {},
     "output_type": "execute_result"
    }
   ],
   "source": [
    "retriever.add_documents([Document(page_content=\"hello world\")])\n",
    "time.sleep(20)\n",
    "retriever.add_documents([Document(page_content=\"hello foo\")])"
   ]
  },
  {
   "cell_type": "code",
   "execution_count": 4,
   "id": "a580be32",
   "metadata": {},
   "outputs": [
    {
     "name": "stdout",
     "output_type": "stream",
     "text": [
      "0.9999994359334345\n",
      "1.8408203353689756\n",
      "0.9999428041917008\n",
      "1.9999408025741263\n"
     ]
    },
    {
     "data": {
      "text/plain": [
       "[Document(page_content='hello world', metadata={'last_accessed_at': datetime.datetime(2023, 4, 15, 21, 4, 41, 457055), 'created_at': datetime.datetime(2023, 4, 15, 21, 4, 20, 437090), 'buffer_idx': 0})]"
      ]
     },
     "execution_count": 4,
     "metadata": {},
     "output_type": "execute_result"
    }
   ],
   "source": [
    "retriever.get_relevant_documents(\"hello world\")"
   ]
  },
  {
   "cell_type": "markdown",
   "id": "ca056896",
   "metadata": {},
   "source": [
    "## Low decay factor\n",
    "With a low decay factor (in this, to be extreme, we will set close to 0) this will return most recent docs"
   ]
  },
  {
   "cell_type": "code",
   "execution_count": 5,
   "id": "dc37669b",
   "metadata": {},
   "outputs": [],
   "source": [
    "# Define your embedding model\n",
    "embeddings_model = OpenAIEmbeddings()\n",
    "# Initialize the vectorstore as empty\n",
    "embedding_size = 1536\n",
    "index = faiss.IndexFlatL2(embedding_size)\n",
    "vectorstore = FAISS(embeddings_model.embed_query, index, InMemoryDocstore({}), {})\n",
    "retriever = TimeWeightedVectorStoreRetriever(vectorstore=vectorstore, decay_factor=.0000000000000000000000001, k=1) "
   ]
  },
  {
   "cell_type": "code",
   "execution_count": 6,
   "id": "fa284384",
   "metadata": {},
   "outputs": [
    {
     "data": {
      "text/plain": [
       "['f063e5b2-c2eb-42fc-8894-79c7a7a9038e']"
      ]
     },
     "execution_count": 6,
     "metadata": {},
     "output_type": "execute_result"
    }
   ],
   "source": [
    "retriever.add_documents([Document(page_content=\"hello world\")])\n",
    "time.sleep(20)\n",
    "retriever.add_documents([Document(page_content=\"hello foo\")])"
   ]
  },
  {
   "cell_type": "code",
   "execution_count": 7,
   "id": "7558f94d",
   "metadata": {},
   "outputs": [
    {
     "name": "stdout",
     "output_type": "stream",
     "text": [
      "0.9978079943966991\n",
      "1.8412067636745604\n",
      "0.7235696005754303\n",
      "1.7230094271411442\n"
     ]
    },
    {
     "data": {
      "text/plain": [
       "[Document(page_content='hello foo', metadata={'last_accessed_at': datetime.datetime(2023, 4, 15, 21, 5, 2, 243331), 'created_at': datetime.datetime(2023, 4, 15, 21, 5, 1, 579028), 'buffer_idx': 1})]"
      ]
     },
     "execution_count": 7,
     "metadata": {},
     "output_type": "execute_result"
    }
   ],
   "source": [
    "retriever.get_relevant_documents(\"hello world\")"
   ]
  },
  {
   "cell_type": "code",
   "execution_count": null,
   "id": "bf6d8c90",
   "metadata": {},
   "outputs": [],
   "source": []
  }
 ],
 "metadata": {
  "kernelspec": {
   "display_name": "Python 3 (ipykernel)",
   "language": "python",
   "name": "python3"
  },
  "language_info": {
   "codemirror_mode": {
    "name": "ipython",
    "version": 3
   },
   "file_extension": ".py",
   "mimetype": "text/x-python",
   "name": "python",
   "nbconvert_exporter": "python",
   "pygments_lexer": "ipython3",
   "version": "3.9.1"
  }
 },
 "nbformat": 4,
 "nbformat_minor": 5
}
