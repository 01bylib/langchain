{
 "cells": [
  {
   "cell_type": "markdown",
   "id": "a90b7557",
   "metadata": {},
   "source": [
    "# Time Weighted VectorStore Retriever\n",
    "\n",
    "This retriever uses a combination of semantic similarity and recency.\n",
    "\n",
    "The algorithm for combining them is basically:\n",
    "\n",
    "```\n",
    "semantic_similarity + decay_factor ** hours_passed\n",
    "```\n",
    "\n",
    "Notably, hours_passed refers to the hours passed since the object in the retriever was last accessed, not since it ws created."
   ]
  },
  {
   "cell_type": "code",
   "execution_count": 1,
   "id": "f22cc96b",
   "metadata": {},
   "outputs": [],
   "source": [
    "from langchain.retrievers import TimeWeightedVectorStoreRetriever\n",
    "import faiss\n",
    "from langchain.vectorstores import FAISS\n",
    "from langchain.docstore import InMemoryDocstore\n",
    "from langchain.embeddings import OpenAIEmbeddings\n",
    "from langchain.schema import Document\n",
    "import time"
   ]
  },
  {
   "cell_type": "markdown",
   "id": "6af7ea6b",
   "metadata": {},
   "source": [
    "## High decay factor\n",
    "\n",
    "With a relatively high decay factor, this will mostly return documents that are semantically similar"
   ]
  },
  {
   "cell_type": "code",
   "execution_count": 27,
   "id": "c10e7696",
   "metadata": {},
   "outputs": [],
   "source": [
    "# Define your embedding model\n",
    "embeddings_model = OpenAIEmbeddings()\n",
    "# Initialize the vectorstore as empty\n",
    "embedding_size = 1536\n",
    "index = faiss.IndexFlatL2(embedding_size)\n",
    "vectorstore = FAISS(embeddings_model.embed_query, index, InMemoryDocstore({}), {})\n",
    "retriever = TimeWeightedVectorStoreRetriever(vectorstore=vectorstore, decay_factor=.99, k=1) "
   ]
  },
  {
   "cell_type": "code",
   "execution_count": 28,
   "id": "86dbadb9",
   "metadata": {},
   "outputs": [
    {
     "data": {
      "text/plain": [
       "['e1990f14-c66c-4de1-961e-b35d251dbc24']"
      ]
     },
     "execution_count": 28,
     "metadata": {},
     "output_type": "execute_result"
    }
   ],
   "source": [
    "retriever.add_documents([Document(page_content=\"hello world\")])\n",
    "time.sleep(1)\n",
    "retriever.add_documents([Document(page_content=\"hello foo\")])"
   ]
  },
  {
   "cell_type": "code",
   "execution_count": 29,
   "id": "a580be32",
   "metadata": {},
   "outputs": [
    {
     "name": "stdout",
     "output_type": "stream",
     "text": [
      "0.999943851187518\n",
      "1.7783825087097196\n",
      "0.9997499080672996\n",
      "1.997134532390176\n"
     ]
    },
    {
     "data": {
      "text/plain": [
       "[Document(page_content='hello world', metadata={'last_accessed_at': datetime.datetime(2023, 4, 13, 23, 35, 40, 308626), 'created_at': datetime.datetime(2023, 4, 13, 23, 35, 38, 583497), 'buffer_idx': 0})]"
      ]
     },
     "execution_count": 29,
     "metadata": {},
     "output_type": "execute_result"
    }
   ],
   "source": [
    "retriever.get_relevant_documents(\"hello world\")"
   ]
  },
  {
   "cell_type": "markdown",
   "id": "ca056896",
   "metadata": {},
   "source": [
    "## Low decay factor\n",
    "With a low decay factor (in this, to be extreme, we will set close to 0) this will return most recent docs"
   ]
  },
  {
   "cell_type": "code",
   "execution_count": 30,
   "id": "dc37669b",
   "metadata": {},
   "outputs": [],
   "source": [
    "# Define your embedding model\n",
    "embeddings_model = OpenAIEmbeddings()\n",
    "# Initialize the vectorstore as empty\n",
    "embedding_size = 1536\n",
    "index = faiss.IndexFlatL2(embedding_size)\n",
    "vectorstore = FAISS(embeddings_model.embed_query, index, InMemoryDocstore({}), {})\n",
    "retriever = TimeWeightedVectorStoreRetriever(vectorstore=vectorstore, decay_factor=.00000001, k=1) "
   ]
  },
  {
   "cell_type": "code",
   "execution_count": 31,
   "id": "fa284384",
   "metadata": {},
   "outputs": [
    {
     "data": {
      "text/plain": [
       "['3c156c9a-ad6b-47dc-befc-87437a603973']"
      ]
     },
     "execution_count": 31,
     "metadata": {},
     "output_type": "execute_result"
    }
   ],
   "source": [
    "retriever.add_documents([Document(page_content=\"hello world\")])\n",
    "time.sleep(1)\n",
    "retriever.add_documents([Document(page_content=\"hello foo\")])"
   ]
  },
  {
   "cell_type": "code",
   "execution_count": 32,
   "id": "7558f94d",
   "metadata": {},
   "outputs": [
    {
     "name": "stdout",
     "output_type": "stream",
     "text": [
      "0.8416762384156714\n",
      "1.6166791948060522\n",
      "0.5781175231321124\n",
      "1.577325318264064\n"
     ]
    },
    {
     "data": {
      "text/plain": [
       "[Document(page_content='hello foo', metadata={'last_accessed_at': datetime.datetime(2023, 4, 13, 23, 35, 54, 905605), 'created_at': datetime.datetime(2023, 4, 13, 23, 35, 54, 242988), 'buffer_idx': 1})]"
      ]
     },
     "execution_count": 32,
     "metadata": {},
     "output_type": "execute_result"
    }
   ],
   "source": [
    "retriever.get_relevant_documents(\"hello world\")"
   ]
  },
  {
   "cell_type": "code",
   "execution_count": null,
   "id": "bf6d8c90",
   "metadata": {},
   "outputs": [],
   "source": []
  }
 ],
 "metadata": {
  "kernelspec": {
   "display_name": "Python 3 (ipykernel)",
   "language": "python",
   "name": "python3"
  },
  "language_info": {
   "codemirror_mode": {
    "name": "ipython",
    "version": 3
   },
   "file_extension": ".py",
   "mimetype": "text/x-python",
   "name": "python",
   "nbconvert_exporter": "python",
   "pygments_lexer": "ipython3",
   "version": "3.9.1"
  }
 },
 "nbformat": 4,
 "nbformat_minor": 5
}
