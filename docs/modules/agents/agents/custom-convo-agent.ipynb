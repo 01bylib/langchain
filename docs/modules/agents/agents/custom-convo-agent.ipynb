{
 "cells": [
  {
   "cell_type": "markdown",
   "id": "ba5f8741",
   "metadata": {},
   "source": [
    "# Custom LLLM Agent\n",
    "\n",
    "This notebook goes through how to create your own custom LLM agent.\n",
    "\n",
    "An LLM agent consists of three parts:\n",
    "    \n",
    "    - Tools: The tools the agent has available to use.\n",
    "    - LLMChain: The LLMChain that produces the text that is parsed in a certain way to determine which action to take.\n",
    "    - OutputParser: This determines how to parse the LLMOutput into \n",
    "        \n",
    "        \n",
    "In this notebook we walk through how to create a custom LLM agent."
   ]
  },
  {
   "cell_type": "code",
   "execution_count": 1,
   "id": "02fc5d2d",
   "metadata": {},
   "outputs": [],
   "source": [
    "import sys\n",
    "sys.path.append(\"../../../../../lang-chat/backend/\")\n",
    "# import os\n",
    "# os.environ[\"LANGCHAIN_HANDLER\"] = \"langchain\""
   ]
  },
  {
   "cell_type": "code",
   "execution_count": 2,
   "id": "3335ff63",
   "metadata": {},
   "outputs": [],
   "source": [
    "from app.toolkits.open_api.toolkit import OpenAPIToolkit\n",
    "urls = [\n",
    "    \"https://www.klarna.com/.well-known/ai-plugin.json\"\n",
    "]\n",
    "def get_toolkits(urls):\n",
    "    return list(map(OpenAPIToolkit.from_plugin_url, urls))\n",
    "toolkits = get_toolkits(urls)\n",
    "namespaces = \"\\n\\n\".join([tk.get_typescript_namespace() for tk in toolkits])\n",
    "#print(namespaces)"
   ]
  },
  {
   "cell_type": "code",
   "execution_count": 3,
   "id": "9af9734e",
   "metadata": {},
   "outputs": [],
   "source": [
    "from langchain.agents import Tool, AgentExecutor\n",
    "from langchain.agents.agent import LLMSingleActionAgent, AgentOutputParser\n",
    "from langchain.prompts import StringPromptTemplate\n",
    "from langchain import OpenAI, SerpAPIWrapper, LLMChain"
   ]
  },
  {
   "cell_type": "code",
   "execution_count": 4,
   "id": "339b1bb8",
   "metadata": {},
   "outputs": [],
   "source": [
    "template = \"\"\"Answer the following questions as best you can. You have access to the following tools (but you do not need to use them):\n",
    "\n",
    "{tools}\n",
    "\n",
    "If you want use a tool you should write valid TypeScript code to call it. Please put all parameters and their values on their own line. If you use strings, they should be wrapped in double quotes not single. Any arguments to this function should be values that can be loaded as json.\n",
    "\n",
    "For your response, you have two options:\n",
    "\n",
    "If you do not need to use any tools, you can just respond directly to the user by using the following format:\n",
    "\n",
    "Question: the input question you must answer\n",
    "Thought: you should always think about what to do\n",
    "Final Answer: your response to user here\n",
    "\n",
    "If you do need to use tools, you should use the following format:\n",
    "\n",
    "Question: the input question you must answer\n",
    "Thought: you should always think about what to do\n",
    "Action: ```typescript\n",
    "...\n",
    "``` \n",
    "Observation: the result of the action\n",
    "... (this Thought/Action/Observation can repeat N times)\n",
    "Thought: I now know the final answer\n",
    "Final Answer: the final answer to the original input question.\n",
    "\n",
    "When repsonding in your final answer to the user, they have NO knowledge of any intermediate steps. So if there is any intermediate knowledge there you want them to know, you should make sure to return it as part of your final answer.\n",
    "\n",
    "Remember, you do not need to use tools. For example, if the user asks a question that you KNOW the answer to, you can respond. If they ask a question that you do not know the answer to, but no tool can help, you should respond asking for clarification.\n",
    "\n",
    "Previous conversation (the question could be a follow up to something here):\n",
    "\n",
    "{chat_history}\n",
    "\n",
    "Begin!\n",
    "\n",
    "Question: {input}\n",
    "Thought: {agent_scratchpad}\"\"\""
   ]
  },
  {
   "cell_type": "code",
   "execution_count": 5,
   "id": "9274badb",
   "metadata": {},
   "outputs": [],
   "source": [
    "shopify = toolkits[0]"
   ]
  },
  {
   "cell_type": "code",
   "execution_count": 6,
   "id": "fd969d31",
   "metadata": {},
   "outputs": [],
   "source": [
    "class CustomPromptTemplate(StringPromptTemplate):\n",
    "    \n",
    "    def format(self, **kwargs) -> str:\n",
    "        kwargs = self._merge_partial_and_user_variables(**kwargs)\n",
    "        intermediate_steps = kwargs.pop(\"intermediate_steps\")\n",
    "        thoughts = \"\"\n",
    "        for action, observation in intermediate_steps:\n",
    "            thoughts += action.log\n",
    "            thoughts += f\"\\nObservation: {observation}\\nThought: \"\n",
    "        kwargs[\"agent_scratchpad\"] = thoughts\n",
    "        return template.format(**kwargs)"
   ]
  },
  {
   "cell_type": "code",
   "execution_count": 7,
   "id": "798ef9fb",
   "metadata": {},
   "outputs": [],
   "source": [
    "prompt = CustomPromptTemplate(input_variables=[\"input\", \"intermediate_steps\", \"chat_history\", \"tools\"])"
   ]
  },
  {
   "cell_type": "code",
   "execution_count": 65,
   "id": "a74e3cc3",
   "metadata": {},
   "outputs": [],
   "source": [
    "PREFIX = \"\"\"Assistant is a large language model trained by OpenAI.\n",
    "\n",
    "Assistant is designed to be able to assist with a wide range of tasks, from answering simple questions to providing in-depth explanations and discussions on a wide range of topics. As a language model, Assistant is able to generate human-like text based on the input it receives, allowing it to engage in natural-sounding conversations and provide responses that are coherent and relevant to the topic at hand.\n",
    "\n",
    "Assistant is constantly learning and improving, and its capabilities are constantly evolving. It is able to process and understand large amounts of text, and can use this knowledge to provide accurate and informative responses to a wide range of questions. Additionally, Assistant is able to generate its own text based on the input it receives, allowing it to engage in discussions and provide explanations and descriptions on a wide range of topics.\n",
    "\n",
    "Overall, Assistant is a powerful system that can help with a wide range of tasks and provide valuable insights and information on a wide range of topics. Whether you need help with a specific question or just want to have a conversation about a particular topic, Assistant is here to assist.\"\"\"\n",
    "\n",
    "\n",
    "SUFFIX = \"\"\"TOOLS\n",
    "------\n",
    "Assistant can ask the user to use tools to look up information that may be helpful in answering the users original question. The tools the human can use are:\n",
    "\n",
    "{tools}\n",
    "\n",
    "RESPONSE FORMAT INSTRUCTIONS\n",
    "----------------------------\n",
    "\n",
    "When responding to me please, please output a response in one of two formats:\n",
    "\n",
    "**Option 1:**\n",
    "Use this if you want the human to use a tool. Output should be in a typescript Markdown snippet.\n",
    "If you want use a tool you should write valid TypeScript code to call it. Please put all parameters and their values on their own line. If you use strings, they should be wrapped in double quotes not single. Any arguments to this function should be values that can be loaded as json.\n",
    "\n",
    "\n",
    "```typescript\n",
    "...\n",
    "\n",
    "```\n",
    "\n",
    "**Option #2:**\n",
    "Use this if you want to respond directly to the human. Normal text formatted in the following schema:\n",
    "\n",
    "Final Answer:\n",
    "\n",
    "USER'S INPUT\n",
    "--------------------\n",
    "Here is the user's input (remember to respond as instructed):\n",
    "\n",
    "{input}\"\"\"\n",
    "\n",
    "TEMPLATE_TOOL_RESPONSE = \"\"\"TOOL RESPONSE: \n",
    "---------------------\n",
    "{observation}\n",
    "\n",
    "USER'S INPUT\n",
    "--------------------\n",
    "\n",
    "Okay, so what is the response to my last comment? If using information obtained from the tools you must mention it explicitly without mentioning the tool names - I have forgotten all TOOL RESPONSES! Remember to respond as instructed originally.\"\"\"\n",
    "import json\n",
    "from typing import Any, List, Optional, Sequence, Tuple\n",
    "\n",
    "from langchain.agents.agent import Agent\n",
    "from langchain.callbacks.base import BaseCallbackManager\n",
    "from langchain.chains import LLMChain\n",
    "from langchain.prompts.base import BasePromptTemplate\n",
    "from langchain.prompts.chat import (\n",
    "    ChatPromptTemplate,\n",
    "    HumanMessagePromptTemplate,\n",
    "    MessagesPlaceholder,\n",
    "    SystemMessagePromptTemplate,\n",
    "    ChatPromptValue\n",
    ")\n",
    "from langchain.schema import (\n",
    "    AgentAction,\n",
    "    AIMessage,\n",
    "    BaseLanguageModel,\n",
    "    BaseMessage,\n",
    "    BaseOutputParser,\n",
    "    HumanMessage,\n",
    "    SystemMessage,\n",
    "    PromptValue,\n",
    ")\n",
    "from langchain.tools.base import BaseTool\n",
    "\n",
    "class CustomChatPromptTemplate(StringPromptTemplate):\n",
    "    \n",
    "    def format(self, **kwargs: Any) -> str:\n",
    "        return self.format_prompt(**kwargs).to_string()\n",
    "    \n",
    "    def format_prompt(self, **kwargs: Any) -> PromptValue:\n",
    "        kwargs = self._merge_partial_and_user_variables(**kwargs)\n",
    "        result = [SystemMessage(content=PREFIX)] + kwargs[\"chat_history\"]\n",
    "        intermediate_steps = kwargs.pop(\"intermediate_steps\")\n",
    "        result.append(HumanMessage(content=SUFFIX.format(**kwargs)))\n",
    "        for action, observation in intermediate_steps:\n",
    "            result.append(AIMessage(content=action.log))\n",
    "            human_message = HumanMessage(\n",
    "                content=TEMPLATE_TOOL_RESPONSE.format(observation=observation)\n",
    "            )\n",
    "            result.append(human_message)\n",
    "        return ChatPromptValue(messages=result)"
   ]
  },
  {
   "cell_type": "code",
   "execution_count": 69,
   "id": "610bcda3",
   "metadata": {},
   "outputs": [],
   "source": [
    "BASE_CHAT_TEMPLATE = CustomChatPromptTemplate(input_variables=[\"chat_history\", \"intermediate_steps\", \"input\", \"tools\"])"
   ]
  },
  {
   "cell_type": "code",
   "execution_count": 8,
   "id": "9571fcef",
   "metadata": {},
   "outputs": [],
   "source": [
    "llm = OpenAI(temperature=0, max_tokens=-1)"
   ]
  },
  {
   "cell_type": "code",
   "execution_count": 9,
   "id": "e9cff754",
   "metadata": {},
   "outputs": [],
   "source": [
    "query = \"what are some cheap pokemon t-shirts?\""
   ]
  },
  {
   "cell_type": "code",
   "execution_count": 10,
   "id": "7c6fe0d3",
   "metadata": {},
   "outputs": [],
   "source": [
    "FINAL_ANSWER_ACTION = \"Final Answer:\"\n",
    "import json\n",
    "import json5\n",
    "from langchain.schema import AgentAction, AgentFinish\n",
    "import re\n",
    "class CustomOutputParser(AgentOutputParser):\n",
    "    \n",
    "    def parse(self, llm_output):\n",
    "        if FINAL_ANSWER_ACTION in llm_output:\n",
    "            return AgentFinish(\n",
    "                return_values={\"output\": llm_output.split(FINAL_ANSWER_ACTION)[-1].strip()},\n",
    "                log=llm_output,\n",
    "            )\n",
    "        parsed = llm_output.split(\"Action:\")[1].split(\"```typescript\")[1].split(\"```\")[0].strip()\n",
    "        typescript_str = parsed.split(\"(\")[1].split(\")\")[0]\n",
    "        tool_input = json.dumps(json5.loads(typescript_str))\n",
    "        return AgentAction(tool=parsed.split(\"(\")[0], tool_input=tool_input, log=llm_output)"
   ]
  },
  {
   "cell_type": "code",
   "execution_count": 11,
   "id": "d278706a",
   "metadata": {},
   "outputs": [],
   "source": [
    "output_parser = CustomOutputParser()"
   ]
  },
  {
   "cell_type": "code",
   "execution_count": 12,
   "id": "9b1cc2a2",
   "metadata": {},
   "outputs": [],
   "source": [
    "llm_chain = LLMChain(llm=llm, prompt=prompt)"
   ]
  },
  {
   "cell_type": "code",
   "execution_count": 13,
   "id": "e4f5092f",
   "metadata": {},
   "outputs": [],
   "source": [
    "agent = LLMSingleActionAgent(llm_chain=llm_chain, output_parser=output_parser, stop=[\"\\nObservation:\"])"
   ]
  },
  {
   "cell_type": "code",
   "execution_count": 14,
   "id": "f7cf0b83",
   "metadata": {},
   "outputs": [],
   "source": [
    "from langchain.memory import ConversationBufferMemory\n",
    "memory = ConversationBufferMemory(memory_key=\"chat_history\")"
   ]
  },
  {
   "cell_type": "code",
   "execution_count": 15,
   "id": "490604e9",
   "metadata": {},
   "outputs": [],
   "source": [
    "agent_executor = AgentExecutor.from_agent_and_tools(agent=agent, tools=shopify.get_tools(), verbose=True, memory=memory)\n"
   ]
  },
  {
   "cell_type": "code",
   "execution_count": 34,
   "id": "8b3cdcf6",
   "metadata": {},
   "outputs": [
    {
     "name": "stdout",
     "output_type": "stream",
     "text": [
      "\n",
      "\n",
      "\u001b[1m> Entering new AgentExecutor chain...\u001b[0m\n",
      "\u001b[32;1m\u001b[1;3m Bob is looking for help\n",
      "Action: ```typescript\n",
      "KlarnaProducts.productsUsingGET({\n",
      "\tq: \"help\",\n",
      "\tsize: 10,\n",
      "\tbudget: null\n",
      "})\n",
      "```\u001b[0m\n",
      "\n",
      "Observation:\u001b[36;1m\u001b[1;3m{\"products\":[{\"name\":\"Help Dorman 77573 Interior Door Handle for Specific Cadillac Models Blue;\",\"url\":\"https://www.klarna.com/us/shopping/pl/cl709/3204473989/Building-Materials/Help-Dorman-77573-Interior-Door-Handle-for-Specific-Cadillac-Models-Blue/?utm_source=openai\",\"price\":\"$16.34\",\"attributes\":[]},{\"name\":\"Creatine Carnage Warfare Creatine Powder to Help Build Lean\",\"url\":\"https://www.klarna.com/us/shopping/pl/cl566/3203978673/Nutrition-Supplements/Creatine-Carnage-Warfare-Creatine-Powder-to-Help-Build-Lean/?utm_source=openai\",\"price\":\"$45.99\",\"attributes\":[]},{\"name\":\"Help Help The Globolinks (DVD)\",\"url\":\"https://www.klarna.com/us/shopping/pl/cl801/886794/Movies/Help-Help-The-Globolinks-%28DVD%29/?utm_source=openai\",\"price\":\"$24.51\",\"attributes\":[\"Genre:Unclassified\"]},{\"name\":\"Help Me, Help You [LP] VINYL\",\"url\":\"https://www.klarna.com/us/shopping/pl/cl803/3204312692/CD-Vinyl-Records/Help-Me-Help-You-%5BLP%5D-VINYL/?utm_source=openai\",\"price\":\"$22.99\",\"attributes\":[]},{\"name\":\"Sylar Help!\",\"url\":\"https://www.klarna.com/us/shopping/pl/cl803/3202919811/CD-Vinyl-Records/Sylar-Help%21/?utm_source=openai\",\"price\":\"$27.25\",\"attributes\":[\"Genre:Rock\"]},{\"name\":\"Suzanne Ciani - Help, Help, The Globolinks! [VINYL]\",\"url\":\"https://www.klarna.com/us/shopping/pl/cl803/2000494345/CD-Vinyl-Records/Suzanne-Ciani-Help-Help-The-Globolinks%21-%5BVINYL%5D/?utm_source=openai\",\"price\":\"$33.32\",\"attributes\":[]},{\"name\":\"help Wanted [VINYL]\",\"url\":\"https://www.klarna.com/us/shopping/pl/cl803/2000225513/CD-Vinyl-Records/help-Wanted-%5BVINYL%5D/?utm_source=openai\",\"price\":\"$22.99\",\"attributes\":[]},{\"name\":\"Help! [Blu-ray] [1965]\",\"url\":\"https://www.klarna.com/us/shopping/pl/cl801/416740550/Movies/Help%21-%5BBlu-ray%5D-%5B1965%5D/?utm_source=openai\",\"price\":\"$21.18\",\"attributes\":[\"Genre:Unclassified\"]},{\"name\":\"Raconteurs Help Us Stranger (Vinyl)\",\"url\":\"https://www.klarna.com/us/shopping/pl/cl803/3204274617/CD-Vinyl-Records/Raconteurs-Help-Us-Stranger-%28Vinyl%29/?utm_source=openai\",\"price\":\"$17.98\",\"attributes\":[]},{\"name\":\"The Beatles - Help! [VINYL]\",\"url\":\"https://www.klarna.com/us/shopping/pl/cl803/2000229703/CD-Vinyl-Records/The-Beatles-Help%21-%5BVINYL%5D/?utm_source=openai\",\"price\":\"$22.49\",\"attributes\":[\"Genre:Children's Music\"]}]}\u001b[0m\u001b[32;1m\u001b[1;3m I now know the final answer\n",
      "Final Answer: Hi Bob, here are some products that might help you: Help Dorman 77573 Interior Door Handle for Specific Cadillac Models Blue;, Creatine Carnage Warfare Creatine Powder to Help Build Lean, Help Help The Globolinks (DVD), Help Me, Help You [LP] VINYL, Sylar Help!, Suzanne Ciani - Help, Help, The Globolinks! [VINYL], help Wanted [VINYL], Help! [Blu-ray] [1965], Raconteurs Help Us Stranger (Vinyl), The Beatles - Help! [VINYL].\u001b[0m\n",
      "\n",
      "\u001b[1m> Finished chain.\u001b[0m\n"
     ]
    },
    {
     "data": {
      "text/plain": [
       "'Hi Bob, here are some products that might help you: Help Dorman 77573 Interior Door Handle for Specific Cadillac Models Blue;, Creatine Carnage Warfare Creatine Powder to Help Build Lean, Help Help The Globolinks (DVD), Help Me, Help You [LP] VINYL, Sylar Help!, Suzanne Ciani - Help, Help, The Globolinks! [VINYL], help Wanted [VINYL], Help! [Blu-ray] [1965], Raconteurs Help Us Stranger (Vinyl), The Beatles - Help! [VINYL].'"
      ]
     },
     "execution_count": 34,
     "metadata": {},
     "output_type": "execute_result"
    }
   ],
   "source": [
    "agent_executor.run(input=\"hi, i am bob\")"
   ]
  },
  {
   "cell_type": "code",
   "execution_count": 37,
   "id": "0d387eb5",
   "metadata": {},
   "outputs": [
    {
     "name": "stdout",
     "output_type": "stream",
     "text": [
      "\n",
      "\n",
      "\u001b[1m> Entering new AgentExecutor chain...\u001b[0m\n",
      "\u001b[32;1m\u001b[1;3m The user has already told me their name.\n",
      "Final Answer: Your name is Bob.\u001b[0m\n",
      "\n",
      "\u001b[1m> Finished chain.\u001b[0m\n"
     ]
    },
    {
     "data": {
      "text/plain": [
       "'Your name is Bob.'"
      ]
     },
     "execution_count": 37,
     "metadata": {},
     "output_type": "execute_result"
    }
   ],
   "source": [
    "agent_executor.run(\"whats my name?\")"
   ]
  },
  {
   "cell_type": "code",
   "execution_count": null,
   "id": "653b1617",
   "metadata": {
    "scrolled": false
   },
   "outputs": [],
   "source": [
    "agent_executor.run(query)"
   ]
  },
  {
   "cell_type": "code",
   "execution_count": null,
   "id": "ba6d7418",
   "metadata": {},
   "outputs": [],
   "source": [
    "agent_executor.run(\"hi\")"
   ]
  },
  {
   "cell_type": "markdown",
   "id": "30cf0aaf",
   "metadata": {},
   "source": [
    "## Test cases"
   ]
  },
  {
   "cell_type": "code",
   "execution_count": 70,
   "id": "92186091",
   "metadata": {},
   "outputs": [],
   "source": [
    "def get_agent(toolkits, llm):\n",
    "    if isinstance(llm, OpenAI):\n",
    "        prompt_to_use = prompt.partial(tools=\"\\n\\n\".join([tk.get_typescript_namespace() for tk in toolkits]))\n",
    "    elif isinstance(llm, ChatOpenAI):\n",
    "        prompt_to_use = BASE_CHAT_TEMPLATE.partial(tools=\"\\n\\n\".join([tk.get_typescript_namespace() for tk in toolkits]))\n",
    "    else:\n",
    "        raise ValueError\n",
    "    output_parser = CustomOutputParser()\n",
    "    llm_chain = LLMChain(llm=llm, prompt=prompt_to_use)\n",
    "    agent = LLMSingleActionAgent(llm_chain=llm_chain, output_parser=output_parser, stop=[\"\\nObservation:\"])\n",
    "    memory = ConversationBufferMemory(memory_key=\"chat_history\")\n",
    "    tools = []\n",
    "    for tk in toolkits:\n",
    "        tools.extend(tk.get_tools())\n",
    "    return AgentExecutor.from_agent_and_tools(agent=agent, tools=tools, verbose=True, memory=memory)\n"
   ]
  },
  {
   "cell_type": "code",
   "execution_count": 79,
   "id": "cc799d15",
   "metadata": {},
   "outputs": [],
   "source": [
    "MEMORY_TEST_CASES = [\n",
    "    # Should know the answer to \"whats my name\"\n",
    "    [\n",
    "        {\"input\": \"hi im bob\"},\n",
    "        {\"input\": \"whats my name?\"}\n",
    "    ],\n",
    "    # Should not know the answer to \"whats my name\"\n",
    "    [\n",
    "        {\"input\": \"whats my name?\"}\n",
    "    ],\n",
    "]\n",
    "KLARNA_TEST_CASES = [\n",
    "    [\n",
    "        {\"input\": \"what is the most expensive t-shirt i can buy?\"},\n",
    "        {\"input\": \"whats the price in dollars?\"},\n",
    "    ],\n",
    "    [\n",
    "        {\"input\": \"what are some blue shirts you have available?\"},\n",
    "    ]\n",
    "]\n",
    "MILO_TEST_CASES = [\n",
    "    [\n",
    "        {\"input\": \"whats magic today?\"},\n",
    "        {\"input\": \"thanks!\"}\n",
    "    ]\n",
    "]"
   ]
  },
  {
   "cell_type": "code",
   "execution_count": 80,
   "id": "a0fb1ddc",
   "metadata": {},
   "outputs": [],
   "source": [
    "TESTS = [\n",
    "    {\n",
    "        \"urls\":[\n",
    "            \"https://www.klarna.com/.well-known/ai-plugin.json\"\n",
    "        ],\n",
    "        \"test_cases\": MEMORY_TEST_CASES + KLARNA_TEST_CASES\n",
    "    }\n",
    "#     {\n",
    "#         \"urls\":[\n",
    "#             \"https://www.joinmilo.com/.well-known/ai-plugin.json\"\n",
    "#         ],\n",
    "#         \"test_cases\": MILO_TEST_CASES\n",
    "#     }\n",
    "]"
   ]
  },
  {
   "cell_type": "code",
   "execution_count": 81,
   "id": "01ef6a95",
   "metadata": {},
   "outputs": [],
   "source": [
    "from langchain.llms import OpenAI\n",
    "from langchain.chat_models import ChatOpenAI\n",
    "llm = OpenAI(temperature=0)\n",
    "#llm = ChatOpenAI(temperature=0, model_name=\"gpt-4\")"
   ]
  },
  {
   "cell_type": "code",
   "execution_count": 82,
   "id": "243cd4c4",
   "metadata": {
    "scrolled": false
   },
   "outputs": [
    {
     "name": "stdout",
     "output_type": "stream",
     "text": [
      "\n",
      "\n",
      "\u001b[1m> Entering new AgentExecutor chain...\u001b[0m\n",
      "\u001b[32;1m\u001b[1;3m Bob is asking a question, but it is not clear what he is asking.\n",
      "Action: Ask for clarification\n",
      "Final Answer: Hi Bob, what can I help you with?\u001b[0m\n",
      "\n",
      "\u001b[1m> Finished chain.\u001b[0m\n",
      "\n",
      "\n",
      "\u001b[1m> Entering new AgentExecutor chain...\u001b[0m\n",
      "\u001b[32;1m\u001b[1;3m I already know the answer to this question\n",
      "Final Answer: Your name is Bob.\u001b[0m\n",
      "\n",
      "\u001b[1m> Finished chain.\u001b[0m\n",
      "\n",
      "\n",
      "\u001b[1m> Entering new AgentExecutor chain...\u001b[0m\n",
      "\u001b[32;1m\u001b[1;3m I know the answer to this question\n",
      "Final Answer: Your name is [name].\u001b[0m\n",
      "\n",
      "\u001b[1m> Finished chain.\u001b[0m\n",
      "\n",
      "\n",
      "\u001b[1m> Entering new AgentExecutor chain...\u001b[0m\n",
      "\u001b[32;1m\u001b[1;3m I need to find a product that matches the user's criteria\n",
      "Action: ```typescript\n",
      "KlarnaProducts.productsUsingGET({\n",
      "\tq: \"t-shirt\",\n",
      "\tsize: 1,\n",
      "\tbudget: null\n",
      "})\n",
      "```\u001b[0m\n",
      "\n",
      "Observation:\u001b[36;1m\u001b[1;3m{'products': [{'name': 'T-shirt', 'url': 'https://www.klarna.com/us/shopping/pl/cl10001/3203506327/Clothing/T-shirt/?utm_source=openai', 'price': '$29.99', 'attributes': ['Material:Cotton', 'Target Group:Man', 'Color:Gray,White,Blue,Black,Orange']}]}\u001b[0m\u001b[32;1m\u001b[1;3m I now know the most expensive t-shirt the user can buy\n",
      "Final Answer: The most expensive t-shirt you can buy is the T-shirt from Klarna, which costs $29.99. It is made of cotton and comes in gray, white, blue, black, and orange.\u001b[0m\n",
      "\n",
      "\u001b[1m> Finished chain.\u001b[0m\n",
      "\n",
      "\n",
      "\u001b[1m> Entering new AgentExecutor chain...\u001b[0m\n",
      "\u001b[32;1m\u001b[1;3m I need to find the price of the t-shirt in dollars\n",
      "Action: ```typescript\n",
      "KlarnaProducts.productsUsingGET({\n",
      "\tq: \"t-shirt\",\n",
      "\tsize: 1,\n",
      "\tbudget: null\n",
      "})\n",
      "```\u001b[0m\n",
      "\n",
      "Observation:\u001b[36;1m\u001b[1;3m{'products': [{'name': 'T-shirt', 'url': 'https://www.klarna.com/us/shopping/pl/cl10001/3203506327/Clothing/T-shirt/?utm_source=openai', 'price': '$29.99', 'attributes': ['Material:Cotton', 'Target Group:Man', 'Color:Gray,White,Blue,Black,Orange']}]}\u001b[0m\u001b[32;1m\u001b[1;3m I now know the price of the t-shirt\n",
      "Final Answer: The t-shirt from Klarna costs $29.99.\u001b[0m\n",
      "\n",
      "\u001b[1m> Finished chain.\u001b[0m\n",
      "\n",
      "\n",
      "\u001b[1m> Entering new AgentExecutor chain...\u001b[0m\n",
      "\u001b[32;1m\u001b[1;3m I need to find a list of blue shirts\n",
      "Action: ```typescript\n",
      "KlarnaProducts.productsUsingGET({\n",
      "\tq: \"blue shirt\",\n",
      "\tsize: 10,\n",
      "\tbudget: null\n",
      "})\n",
      "```\u001b[0m\n",
      "\n",
      "Observation:\u001b[36;1m\u001b[1;3m{'products': [{'name': 'Polo Ralph Lauren Polo Shirt - Blue', 'url': 'https://www.klarna.com/us/shopping/pl/cl10001/3200135914/Clothing/Polo-Ralph-Lauren-Polo-Shirt-Blue/?utm_source=openai', 'price': '$98.00', 'attributes': ['Material:Cotton', 'Target Group:Man', 'Color:Blue']}, {'name': 'Dickies Original Short Sleeve Work Shirt - Royal Blue', 'url': 'https://www.klarna.com/us/shopping/pl/cl10001/3200090586/Clothing/Dickies-Original-Short-Sleeve-Work-Shirt-Royal-Blue/?utm_source=openai', 'price': '$24.99', 'attributes': ['Material:Polyester,Cotton', 'Target Group:Man', 'Color:Blue']}, {'name': 'Hugo Boss Paddy Polo Shirt - Open Blue', 'url': 'https://www.klarna.com/us/shopping/pl/cl10001/3200882220/Clothing/Hugo-Boss-Paddy-Polo-Shirt-Open-Blue/?utm_source=openai', 'price': '$64.19', 'attributes': ['Material:Cotton', 'Target Group:Man', 'Color:Blue']}, {'name': 'Lacoste Slim Fit Petit Pique Polo Shirt - Navy Blue', 'url': 'https://www.klarna.com/us/shopping/pl/cl10001/3201243180/Clothing/Lacoste-Slim-Fit-Petit-Pique-Polo-Shirt-Navy-Blue/?utm_source=openai', 'price': '$88.95', 'attributes': ['Material:Cotton', 'Target Group:Man', 'Color:Blue']}, {'name': 'Carhartt Long Sleeve T-shirt', 'url': 'https://www.klarna.com/us/shopping/pl/cl359/3202981740/Children-s-Clothing/Carhartt-Long-Sleeve-T-shirt/?utm_source=openai', 'price': '$13.13', 'attributes': ['Material:Polyester,Cotton', 'Color:Gray,Blue,Green', 'Model:Boy', 'Size (Small-Large):S,L,M', 'Size (US):4,5,6,7']}, {'name': 'Carhartt Flame-Resistant Force Long Sleeve T-Shirt - Blue', 'url': 'https://www.klarna.com/us/shopping/pl/cl10001/3201825866/Clothing/Carhartt-Flame-Resistant-Force-Long-Sleeve-T-Shirt-Blue/?utm_source=openai', 'price': '$69.99', 'attributes': ['Material:Cotton', 'Target Group:Man', 'Color:Gray,Blue,Beige']}, {'name': 'La Martina Blue Shirt', 'url': 'https://www.klarna.com/us/shopping/pl/cl10001/3205111681/Clothing/La-Martina-Blue-Shirt/?utm_source=openai', 'price': '$85.00', 'attributes': ['Material:Cotton', 'Target Group:Man', 'Color:Blue']}, {'name': 'Psycho Bunny Mens Copa Gradient Logo Graphic Tee', 'url': 'https://www.klarna.com/us/shopping/pl/cl10001/3203663222/Clothing/Psycho-Bunny-Mens-Copa-Gradient-Logo-Graphic-Tee/?utm_source=openai', 'price': '$35.00', 'attributes': ['Material:Cotton', 'Target Group:Man', 'Color:White,Blue,Black,Orange']}, {'name': 'Old Navy Softest Crew Neck T-shirt for Boys - Ink Blue (898709)', 'url': 'https://www.klarna.com/us/shopping/pl/cl359/3201096539/Children-s-Clothing/Old-Navy-Softest-Crew-Neck-T-shirt-for-Boys-Ink-Blue-%28898709%29/?utm_source=openai', 'price': '$9.99', 'attributes': ['Material:Polyester,Cotton', 'Color:Blue', 'Model:Boy', 'Size (Small-Large):XL,L,XXL']}, {'name': 'La Martina Light Blue Shirt', 'url': 'https://www.klarna.com/us/shopping/pl/cl10001/3205112484/Clothing/La-Martina-Light-Blue-Shirt/?utm_source=openai', 'price': '$38.00', 'attributes': ['Target Group:Man', 'Color:Blue,Multicolor']}]}\u001b[0m\u001b[32;1m\u001b[1;3m I now know the list of blue shirts\n",
      "Final Answer: Here are 10 blue shirts that I found for you: \n",
      "1. Polo Ralph Lauren Polo Shirt - Blue \n",
      "2. Dickies Original Short Sleeve Work Shirt - Royal Blue \n",
      "3. Hugo Boss Paddy Polo Shirt - Open Blue \n",
      "4. Lacoste Slim Fit Petit Pique Polo Shirt - Navy Blue \n",
      "5. Carhartt Long Sleeve T-shirt \n",
      "6. Carhartt Flame-Resistant Force Long Sleeve T-Shirt - Blue \n",
      "7. La Martina Blue Shirt \n",
      "8. Psycho Bunny Mens Copa Gradient Logo Graphic Tee \n",
      "9. Old Navy Softest Crew Neck T-shirt for Boys - Ink Blue (898709) \n",
      "10. La Martina Light Blue Shirt \n",
      "You can find more information about each shirt, including price and material, by clicking on the links provided.\u001b[0m\n",
      "\n",
      "\u001b[1m> Finished chain.\u001b[0m\n"
     ]
    }
   ],
   "source": [
    "for test in TESTS:\n",
    "    toolkits = get_toolkits(test[\"urls\"])\n",
    "    for tc in test[\"test_cases\"]:\n",
    "        agent = get_agent(toolkits, llm)\n",
    "        for entry in tc:\n",
    "            agent(entry)"
   ]
  },
  {
   "cell_type": "code",
   "execution_count": null,
   "id": "8fa4ea23",
   "metadata": {},
   "outputs": [],
   "source": []
  }
 ],
 "metadata": {
  "kernelspec": {
   "display_name": "Python 3 (ipykernel)",
   "language": "python",
   "name": "python3"
  },
  "language_info": {
   "codemirror_mode": {
    "name": "ipython",
    "version": 3
   },
   "file_extension": ".py",
   "mimetype": "text/x-python",
   "name": "python",
   "nbconvert_exporter": "python",
   "pygments_lexer": "ipython3",
   "version": "3.9.1"
  },
  "vscode": {
   "interpreter": {
    "hash": "18784188d7ecd866c0586ac068b02361a6896dc3a29b64f5cc957f09c590acef"
   }
  }
 },
 "nbformat": 4,
 "nbformat_minor": 5
}
