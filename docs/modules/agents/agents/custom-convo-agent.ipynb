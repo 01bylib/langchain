{
 "cells": [
  {
   "cell_type": "markdown",
   "id": "ba5f8741",
   "metadata": {},
   "source": [
    "# Custom LLLM Agent\n",
    "\n",
    "This notebook goes through how to create your own custom LLM agent.\n",
    "\n",
    "An LLM agent consists of three parts:\n",
    "    \n",
    "    - Tools: The tools the agent has available to use.\n",
    "    - LLMChain: The LLMChain that produces the text that is parsed in a certain way to determine which action to take.\n",
    "    - OutputParser: This determines how to parse the LLMOutput into \n",
    "        \n",
    "        \n",
    "In this notebook we walk through how to create a custom LLM agent."
   ]
  },
  {
   "cell_type": "code",
   "execution_count": 1,
   "id": "e27ca395",
   "metadata": {},
   "outputs": [],
   "source": [
    "import sys\n",
    "sys.path.append(\"../../../../../lang-chat/backend/\")"
   ]
  },
  {
   "cell_type": "code",
   "execution_count": 20,
   "id": "9ccf2b3e",
   "metadata": {},
   "outputs": [],
   "source": [
    "from app.toolkits.open_api.toolkit import OpenAPIToolkit\n",
    "urls = [\n",
    "    \"https://www.klarna.com/.well-known/ai-plugin.json\"\n",
    "]\n",
    "toolkits = list(map(OpenAPIToolkit.from_plugin_url, urls))\n",
    "namespaces = \"\\n\\n\".join([tk.get_typescript_namespace() for tk in toolkits])\n",
    "#print(namespaces)"
   ]
  },
  {
   "cell_type": "code",
   "execution_count": null,
   "id": "9af9734e",
   "metadata": {},
   "outputs": [],
   "source": [
    "from langchain.agents import Tool, AgentExecutor\n",
    "from langchain.agents.agent import LLMSingleActionAgent, AgentOutputParser\n",
    "from langchain.prompts import StringPromptTemplate\n",
    "from langchain import OpenAI, SerpAPIWrapper, LLMChain"
   ]
  },
  {
   "cell_type": "code",
   "execution_count": 48,
   "id": "339b1bb8",
   "metadata": {},
   "outputs": [],
   "source": [
    "template = \"\"\"Answer the following questions as best you can. You have access to the following tools:\n",
    "\n",
    "{tools}\n",
    "\n",
    "If you want use a tool you should write valid TypeScript code to call it. Please put all parameters and their values on their own line. If you use strings, they should be wrapped in double quotes not single.\n",
    "\n",
    "For your response, you have two options:\n",
    "\n",
    "If you do not need to use any tools, you can just respond directly to the user by using the following format:\n",
    "\n",
    "Question: the input question you must answer\n",
    "Thought: you should always think about what to do\n",
    "Final Answer: your response to user here\n",
    "\n",
    "If you do need to use tools, you should use the following format:\n",
    "\n",
    "Question: the input question you must answer\n",
    "Thought: you should always think about what to do\n",
    "Action: ```typescript\n",
    "...\n",
    "``` \n",
    "Observation: the result of the action\n",
    "... (this Thought/Action/Observation can repeat N times)\n",
    "Thought: I now know the final answer\n",
    "Final Answer: the final answer to the original input question.\n",
    "\n",
    "When repsonding in your final answer to the user, they have NO knowledge of any intermediate steps. So if there is any intermediate knowledge there you want them to know, you should make sure to return it as part of your final answer.\n",
    "Begin!\n",
    "\n",
    "Question: {input}\n",
    "Thought: {agent_scratchpad}\"\"\""
   ]
  },
  {
   "cell_type": "code",
   "execution_count": 49,
   "id": "fd969d31",
   "metadata": {},
   "outputs": [],
   "source": [
    "class CustomPromptTemplate(StringPromptTemplate):\n",
    "    \n",
    "    def format(self, **kwargs) -> str:\n",
    "        intermediate_steps = kwargs.pop(\"intermediate_steps\")\n",
    "        thoughts = \"\"\n",
    "        for action, observation in intermediate_steps:\n",
    "            thoughts += action.log\n",
    "            thoughts += f\"\\nObservation: {observation}\\nThought: \"\n",
    "        kwargs[\"agent_scratchpad\"] = thoughts\n",
    "        kwargs[\"tools\"] = shopify.get_typescript_namespace()\n",
    "        return template.format(**kwargs)"
   ]
  },
  {
   "cell_type": "code",
   "execution_count": 50,
   "id": "798ef9fb",
   "metadata": {},
   "outputs": [],
   "source": [
    "prompt = CustomPromptTemplate(input_variables=[\"input\", \"intermediate_steps\"])"
   ]
  },
  {
   "cell_type": "code",
   "execution_count": 51,
   "id": "fa2c8687",
   "metadata": {},
   "outputs": [],
   "source": [
    "llm = OpenAI(temperature=0, max_tokens=-1)"
   ]
  },
  {
   "cell_type": "code",
   "execution_count": 52,
   "id": "61d24c3d",
   "metadata": {},
   "outputs": [],
   "source": [
    "query = \"what are some cheap pokemon t-shirts?\""
   ]
  },
  {
   "cell_type": "code",
   "execution_count": 53,
   "id": "7c6fe0d3",
   "metadata": {},
   "outputs": [],
   "source": [
    "FINAL_ANSWER_ACTION = \"Final Answer:\"\n",
    "import json\n",
    "import json5\n",
    "from langchain.schema import AgentAction, AgentFinish\n",
    "import re\n",
    "class CustomOutputParser(AgentOutputParser):\n",
    "    \n",
    "    def parse(self, llm_output):\n",
    "        if FINAL_ANSWER_ACTION in llm_output:\n",
    "            return AgentFinish(\n",
    "                return_values={\"output\": llm_output.split(FINAL_ANSWER_ACTION)[-1].strip()},\n",
    "                log=llm_output,\n",
    "            )\n",
    "        parsed = llm_output.split(\"Action:\")[1].split(\"```typescript\")[1].split(\"```\")[0].strip()\n",
    "        typescript_str = parsed.split(\"(\")[1][:-1]\n",
    "        tool_input = json.dumps(json5.loads(typescript_str))\n",
    "        return AgentAction(tool=parsed.split(\"(\")[0], tool_input=tool_input, log=llm_output)"
   ]
  },
  {
   "cell_type": "code",
   "execution_count": 54,
   "id": "d278706a",
   "metadata": {},
   "outputs": [],
   "source": [
    "output_parser = CustomOutputParser()"
   ]
  },
  {
   "cell_type": "code",
   "execution_count": 55,
   "id": "9b1cc2a2",
   "metadata": {},
   "outputs": [],
   "source": [
    "llm_chain = LLMChain(llm=llm, prompt=prompt)"
   ]
  },
  {
   "cell_type": "code",
   "execution_count": 56,
   "id": "e4f5092f",
   "metadata": {},
   "outputs": [],
   "source": [
    "agent = LLMSingleActionAgent(llm_chain=llm_chain, output_parser=output_parser, stop=[\"\\nObservation:\"])"
   ]
  },
  {
   "cell_type": "code",
   "execution_count": 57,
   "id": "490604e9",
   "metadata": {},
   "outputs": [],
   "source": [
    "agent_executor = AgentExecutor.from_agent_and_tools(agent=agent, tools=shopify.get_tools(), verbose=True)"
   ]
  },
  {
   "cell_type": "code",
   "execution_count": 58,
   "id": "653b1617",
   "metadata": {
    "scrolled": false
   },
   "outputs": [
    {
     "name": "stdout",
     "output_type": "stream",
     "text": [
      "\n",
      "\n",
      "\u001b[1m> Entering new AgentExecutor chain...\u001b[0m\n",
      "\u001b[32;1m\u001b[1;3m I need to find some product suggestions that match the query\n",
      "Action: ```typescript\n",
      "KlarnaProducts.productsUsingGET({\n",
      "\tq: \"pokemon t-shirts\",\n",
      "\tsize: 10,\n",
      "\tbudget: 20\n",
      "})\n",
      "```\u001b[0m\n",
      "\n",
      "Observation:\u001b[36;1m\u001b[1;3m{\"products\":[{\"name\":\"Airwaves Men's Pokemon T-shirt\",\"url\":\"https://www.klarna.com/us/shopping/pl/cl10001/3201808037/Clothing/Airwaves-Men-s-Pokemon-T-shirt/?utm_source=openai\",\"price\":\"$17.49\",\"attributes\":[\"Material:Cotton\",\"Target Group:Man\",\"Color:Gray,Blue,Black\"]},{\"name\":\"Airwaves Men's Pokemon Diamond Shape Pikachu T-shirt\",\"url\":\"https://www.klarna.com/us/shopping/pl/cl10001/3201810636/Clothing/Airwaves-Men-s-Pokemon-Diamond-Shape-Pikachu-T-shirt/?utm_source=openai\",\"price\":\"$17.49\",\"attributes\":[\"Material:Cotton\",\"Target Group:Man\",\"Color:Gray,Black\"]},{\"name\":\"Airwaves Men's Pokemon Pikachu Lightening T-shirt\",\"url\":\"https://www.klarna.com/us/shopping/pl/cl10001/3201823213/Clothing/Airwaves-Men-s-Pokemon-Pikachu-Lightening-T-shirt/?utm_source=openai\",\"price\":\"$17.49\",\"attributes\":[\"Material:Cotton\",\"Target Group:Man\",\"Color:Blue,Black\"]},{\"name\":\"Fifth Sun Boy's Pokemon Get Ready to Battle Pikachu Retro Child T-Shirt Black\",\"url\":\"https://www.klarna.com/us/shopping/pl/cl359/3205118175/Children-s-Clothing/Fifth-Sun-Boy-s-Pokemon-Get-Ready-to-Battle-Pikachu-Retro-Child-T-Shirt-Black/?utm_source=openai\",\"price\":\"$9.99\",\"attributes\":[\"Material:Cotton\",\"Color:Black\",\"Model:Boy\",\"Size (Small-Large):XL,XS\"]},{\"name\":\"Pokemon Girl Eevee Face Graphic Tee Athletic Heather\",\"url\":\"https://www.klarna.com/us/shopping/pl/cl359/3205180623/Children-s-Clothing/Pokemon-Girl-Eevee-Face-Graphic-Tee-Athletic-Heather/?utm_source=openai\",\"price\":\"$9.99\",\"attributes\":[\"Material:Cotton\",\"Color:Gray\"]},{\"name\":\"Pokémon Kid's Piplup T-Shirt - White\",\"url\":\"https://www.klarna.com/us/shopping/pl/cl359/3202047765/Children-s-Clothing/Pokemon-Kid-s-Piplup-T-Shirt-White/?utm_source=openai\",\"price\":\"$17.70\",\"attributes\":[\"Material:Cotton\",\"Color:White\",\"Model:Girl\"]},{\"name\":\"Airwaves Men's Pokemon Retro T-shirt\",\"url\":\"https://www.klarna.com/us/shopping/pl/cl10001/3201809276/Clothing/Airwaves-Men-s-Pokemon-Retro-T-shirt/?utm_source=openai\",\"price\":\"$17.49\",\"attributes\":[\"Material:Cotton\",\"Target Group:Man\",\"Color:White,Black\"]},{\"name\":\"Airwaves Pokemon Pikachu T-shirt - Black\",\"url\":\"https://www.klarna.com/us/shopping/pl/cl10001/3201809047/Clothing/Airwaves-Pokemon-Pikachu-T-shirt-Black/?utm_source=openai\",\"price\":\"$17.49\",\"attributes\":[\"Material:Polyester,Cotton\",\"Target Group:Man\",\"Color:Black\"]},{\"name\":\"Airwaves Men's Pokemon Pikachu T-shirt\",\"url\":\"https://www.klarna.com/us/shopping/pl/cl10001/3201809320/Clothing/Airwaves-Men-s-Pokemon-Pikachu-T-shirt/?utm_source=openai\",\"price\":\"$19.99\",\"attributes\":[\"Material:Cotton\",\"Target Group:Man\",\"Color:Blue,Black\"]},{\"name\":\"Pokemon Gengar Youth Short Sleeve Graphic T-Shirt\",\"url\":\"https://www.klarna.com/us/shopping/pl/cl359/3202937240/Children-s-Clothing/Pokemon-Gengar-Youth-Short-Sleeve-Graphic-T-Shirt/?utm_source=openai\",\"price\":\"$16.99\",\"attributes\":[\"Material:Cotton\",\"Color:Black\",\"Size (Small-Large):XL\"]}]}\u001b[0m\u001b[32;1m\u001b[1;3m I now have a list of cheap pokemon t-shirts\n",
      "Final Answer: Here are some cheap pokemon t-shirts I found for you: Airwaves Men's Pokemon T-shirt, Airwaves Men's Pokemon Diamond Shape Pikachu T-shirt, Airwaves Men's Pokemon Pikachu Lightening T-shirt, Fifth Sun Boy's Pokemon Get Ready to Battle Pikachu Retro Child T-Shirt Black, Pokemon Girl Eevee Face Graphic Tee Athletic Heather, Pokémon Kid's Piplup T-Shirt - White, Airwaves Men's Pokemon Retro T-shirt, Airwaves Pokemon Pikachu T-shirt - Black, Airwaves Men's Pokemon Pikachu T-shirt, and Pokemon Gengar Youth Short Sleeve Graphic T-Shirt. All of these t-shirts are under $20.\u001b[0m\n",
      "\n",
      "\u001b[1m> Finished chain.\u001b[0m\n"
     ]
    },
    {
     "data": {
      "text/plain": [
       "\"Here are some cheap pokemon t-shirts I found for you: Airwaves Men's Pokemon T-shirt, Airwaves Men's Pokemon Diamond Shape Pikachu T-shirt, Airwaves Men's Pokemon Pikachu Lightening T-shirt, Fifth Sun Boy's Pokemon Get Ready to Battle Pikachu Retro Child T-Shirt Black, Pokemon Girl Eevee Face Graphic Tee Athletic Heather, Pokémon Kid's Piplup T-Shirt - White, Airwaves Men's Pokemon Retro T-shirt, Airwaves Pokemon Pikachu T-shirt - Black, Airwaves Men's Pokemon Pikachu T-shirt, and Pokemon Gengar Youth Short Sleeve Graphic T-Shirt. All of these t-shirts are under $20.\""
      ]
     },
     "execution_count": 58,
     "metadata": {},
     "output_type": "execute_result"
    }
   ],
   "source": [
    "agent_executor.run(query)"
   ]
  },
  {
   "cell_type": "code",
   "execution_count": 59,
   "id": "e4cbeb9f",
   "metadata": {},
   "outputs": [
    {
     "name": "stdout",
     "output_type": "stream",
     "text": [
      "\n",
      "\n",
      "\u001b[1m> Entering new AgentExecutor chain...\u001b[0m\n",
      "\u001b[32;1m\u001b[1;3m Greeting the user\n",
      "Final Answer: Hi there! How can I help you?\u001b[0m\n",
      "\n",
      "\u001b[1m> Finished chain.\u001b[0m\n"
     ]
    },
    {
     "data": {
      "text/plain": [
       "'Hi there! How can I help you?'"
      ]
     },
     "execution_count": 59,
     "metadata": {},
     "output_type": "execute_result"
    }
   ],
   "source": [
    "agent_executor.run(\"hi\")"
   ]
  },
  {
   "cell_type": "code",
   "execution_count": null,
   "id": "2cb4e817",
   "metadata": {},
   "outputs": [],
   "source": []
  }
 ],
 "metadata": {
  "kernelspec": {
   "display_name": "Python 3 (ipykernel)",
   "language": "python",
   "name": "python3"
  },
  "language_info": {
   "codemirror_mode": {
    "name": "ipython",
    "version": 3
   },
   "file_extension": ".py",
   "mimetype": "text/x-python",
   "name": "python",
   "nbconvert_exporter": "python",
   "pygments_lexer": "ipython3",
   "version": "3.9.1"
  },
  "vscode": {
   "interpreter": {
    "hash": "18784188d7ecd866c0586ac068b02361a6896dc3a29b64f5cc957f09c590acef"
   }
  }
 },
 "nbformat": 4,
 "nbformat_minor": 5
}
