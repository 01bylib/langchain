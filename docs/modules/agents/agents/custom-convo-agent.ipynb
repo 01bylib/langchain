{
 "cells": [
  {
   "cell_type": "markdown",
   "id": "ba5f8741",
   "metadata": {},
   "source": [
    "# Custom LLLM Agent\n",
    "\n",
    "This notebook goes through how to create your own custom LLM agent.\n",
    "\n",
    "An LLM agent consists of three parts:\n",
    "    \n",
    "    - Tools: The tools the agent has available to use.\n",
    "    - LLMChain: The LLMChain that produces the text that is parsed in a certain way to determine which action to take.\n",
    "    - OutputParser: This determines how to parse the LLMOutput into \n",
    "        \n",
    "        \n",
    "In this notebook we walk through how to create a custom LLM agent."
   ]
  },
  {
   "cell_type": "code",
   "execution_count": 1,
   "id": "fab0da79",
   "metadata": {},
   "outputs": [],
   "source": [
    "import sys\n",
    "sys.path.append(\"../../../../../lang-chat/backend/\")\n",
    "import os\n",
    "os.environ[\"LANGCHAIN_HANDLER\"] = \"langchain\""
   ]
  },
  {
   "cell_type": "code",
   "execution_count": 2,
   "id": "aab71a75",
   "metadata": {},
   "outputs": [],
   "source": [
    "from app.toolkits.open_api.toolkit import OpenAPIToolkit\n",
    "urls = [\n",
    "    \"https://www.klarna.com/.well-known/ai-plugin.json\"\n",
    "]\n",
    "toolkits = list(map(OpenAPIToolkit.from_plugin_url, urls))\n",
    "namespaces = \"\\n\\n\".join([tk.get_typescript_namespace() for tk in toolkits])\n",
    "#print(namespaces)"
   ]
  },
  {
   "cell_type": "code",
   "execution_count": 3,
   "id": "9af9734e",
   "metadata": {},
   "outputs": [],
   "source": [
    "from langchain.agents import Tool, AgentExecutor\n",
    "from langchain.agents.agent import LLMSingleActionAgent, AgentOutputParser\n",
    "from langchain.prompts import StringPromptTemplate\n",
    "from langchain import OpenAI, SerpAPIWrapper, LLMChain"
   ]
  },
  {
   "cell_type": "code",
   "execution_count": 4,
   "id": "339b1bb8",
   "metadata": {},
   "outputs": [],
   "source": [
    "template = \"\"\"Answer the following questions as best you can. You have access to the following tools:\n",
    "\n",
    "{tools}\n",
    "\n",
    "If you want use a tool you should write valid TypeScript code to call it. Please put all parameters and their values on their own line. If you use strings, they should be wrapped in double quotes not single.\n",
    "\n",
    "For your response, you have two options:\n",
    "\n",
    "If you do not need to use any tools, you can just respond directly to the user by using the following format:\n",
    "\n",
    "Question: the input question you must answer\n",
    "Thought: you should always think about what to do\n",
    "Final Answer: your response to user here\n",
    "\n",
    "If you do need to use tools, you should use the following format:\n",
    "\n",
    "Question: the input question you must answer\n",
    "Thought: you should always think about what to do\n",
    "Action: ```typescript\n",
    "...\n",
    "``` \n",
    "Observation: the result of the action\n",
    "... (this Thought/Action/Observation can repeat N times)\n",
    "Thought: I now know the final answer\n",
    "Final Answer: the final answer to the original input question.\n",
    "\n",
    "When repsonding in your final answer to the user, they have NO knowledge of any intermediate steps. So if there is any intermediate knowledge there you want them to know, you should make sure to return it as part of your final answer.\n",
    "Begin!\n",
    "\n",
    "{chat_history}\n",
    "Question: {input}\n",
    "Thought: {agent_scratchpad}\"\"\""
   ]
  },
  {
   "cell_type": "code",
   "execution_count": 15,
   "id": "55272fd4",
   "metadata": {},
   "outputs": [],
   "source": [
    "shopify = toolkits[0]"
   ]
  },
  {
   "cell_type": "code",
   "execution_count": 16,
   "id": "fd969d31",
   "metadata": {},
   "outputs": [],
   "source": [
    "class CustomPromptTemplate(StringPromptTemplate):\n",
    "    \n",
    "    def format(self, **kwargs) -> str:\n",
    "        intermediate_steps = kwargs.pop(\"intermediate_steps\")\n",
    "        thoughts = \"\"\n",
    "        for action, observation in intermediate_steps:\n",
    "            thoughts += action.log\n",
    "            thoughts += f\"\\nObservation: {observation}\\nThought: \"\n",
    "        kwargs[\"agent_scratchpad\"] = thoughts\n",
    "        kwargs[\"tools\"] = shopify.get_typescript_namespace()\n",
    "        return template.format(**kwargs)"
   ]
  },
  {
   "cell_type": "code",
   "execution_count": 17,
   "id": "798ef9fb",
   "metadata": {},
   "outputs": [],
   "source": [
    "prompt = CustomPromptTemplate(input_variables=[\"input\", \"intermediate_steps\", \"chat_history\"])"
   ]
  },
  {
   "cell_type": "code",
   "execution_count": 18,
   "id": "1c127a67",
   "metadata": {},
   "outputs": [],
   "source": [
    "llm = OpenAI(temperature=0, max_tokens=-1)"
   ]
  },
  {
   "cell_type": "code",
   "execution_count": 19,
   "id": "31984e00",
   "metadata": {},
   "outputs": [],
   "source": [
    "query = \"what are some cheap pokemon t-shirts?\""
   ]
  },
  {
   "cell_type": "code",
   "execution_count": 28,
   "id": "7c6fe0d3",
   "metadata": {},
   "outputs": [],
   "source": [
    "FINAL_ANSWER_ACTION = \"Final Answer:\"\n",
    "import json\n",
    "import json5\n",
    "from langchain.schema import AgentAction, AgentFinish\n",
    "import re\n",
    "class CustomOutputParser(AgentOutputParser):\n",
    "    \n",
    "    def parse(self, llm_output):\n",
    "        if FINAL_ANSWER_ACTION in llm_output:\n",
    "            return AgentFinish(\n",
    "                return_values={\"output\": llm_output.split(FINAL_ANSWER_ACTION)[-1].strip()},\n",
    "                log=llm_output,\n",
    "            )\n",
    "        parsed = llm_output.split(\"Action:\")[1].split(\"```typescript\")[1].split(\"```\")[0].strip()\n",
    "        typescript_str = parsed.split(\"(\")[1].split(\")\")[0]\n",
    "        tool_input = json.dumps(json5.loads(typescript_str))\n",
    "        return AgentAction(tool=parsed.split(\"(\")[0], tool_input=tool_input, log=llm_output)"
   ]
  },
  {
   "cell_type": "code",
   "execution_count": 29,
   "id": "d278706a",
   "metadata": {},
   "outputs": [],
   "source": [
    "output_parser = CustomOutputParser()"
   ]
  },
  {
   "cell_type": "code",
   "execution_count": 30,
   "id": "9b1cc2a2",
   "metadata": {},
   "outputs": [],
   "source": [
    "llm_chain = LLMChain(llm=llm, prompt=prompt)"
   ]
  },
  {
   "cell_type": "code",
   "execution_count": 31,
   "id": "e4f5092f",
   "metadata": {},
   "outputs": [],
   "source": [
    "agent = LLMSingleActionAgent(llm_chain=llm_chain, output_parser=output_parser, stop=[\"\\nObservation:\"])"
   ]
  },
  {
   "cell_type": "code",
   "execution_count": 32,
   "id": "a1667572",
   "metadata": {},
   "outputs": [],
   "source": [
    "from langchain.memory import ConversationBufferMemory\n",
    "memory = ConversationBufferMemory(memory_key=\"chat_history\")"
   ]
  },
  {
   "cell_type": "code",
   "execution_count": 33,
   "id": "490604e9",
   "metadata": {},
   "outputs": [],
   "source": [
    "agent_executor = AgentExecutor.from_agent_and_tools(agent=agent, tools=shopify.get_tools(), verbose=True, memory=memory)"
   ]
  },
  {
   "cell_type": "code",
   "execution_count": 34,
   "id": "1c69a4d8",
   "metadata": {},
   "outputs": [
    {
     "name": "stdout",
     "output_type": "stream",
     "text": [
      "\n",
      "\n",
      "\u001b[1m> Entering new AgentExecutor chain...\u001b[0m\n",
      "\u001b[32;1m\u001b[1;3m Bob is looking for help\n",
      "Action: ```typescript\n",
      "KlarnaProducts.productsUsingGET({\n",
      "\tq: \"help\",\n",
      "\tsize: 10,\n",
      "\tbudget: null\n",
      "})\n",
      "```\u001b[0m\n",
      "\n",
      "Observation:\u001b[36;1m\u001b[1;3m{\"products\":[{\"name\":\"Help Dorman 77573 Interior Door Handle for Specific Cadillac Models Blue;\",\"url\":\"https://www.klarna.com/us/shopping/pl/cl709/3204473989/Building-Materials/Help-Dorman-77573-Interior-Door-Handle-for-Specific-Cadillac-Models-Blue/?utm_source=openai\",\"price\":\"$16.34\",\"attributes\":[]},{\"name\":\"Creatine Carnage Warfare Creatine Powder to Help Build Lean\",\"url\":\"https://www.klarna.com/us/shopping/pl/cl566/3203978673/Nutrition-Supplements/Creatine-Carnage-Warfare-Creatine-Powder-to-Help-Build-Lean/?utm_source=openai\",\"price\":\"$45.99\",\"attributes\":[]},{\"name\":\"Help Help The Globolinks (DVD)\",\"url\":\"https://www.klarna.com/us/shopping/pl/cl801/886794/Movies/Help-Help-The-Globolinks-%28DVD%29/?utm_source=openai\",\"price\":\"$24.51\",\"attributes\":[\"Genre:Unclassified\"]},{\"name\":\"Help Me, Help You [LP] VINYL\",\"url\":\"https://www.klarna.com/us/shopping/pl/cl803/3204312692/CD-Vinyl-Records/Help-Me-Help-You-%5BLP%5D-VINYL/?utm_source=openai\",\"price\":\"$22.99\",\"attributes\":[]},{\"name\":\"Sylar Help!\",\"url\":\"https://www.klarna.com/us/shopping/pl/cl803/3202919811/CD-Vinyl-Records/Sylar-Help%21/?utm_source=openai\",\"price\":\"$27.25\",\"attributes\":[\"Genre:Rock\"]},{\"name\":\"Suzanne Ciani - Help, Help, The Globolinks! [VINYL]\",\"url\":\"https://www.klarna.com/us/shopping/pl/cl803/2000494345/CD-Vinyl-Records/Suzanne-Ciani-Help-Help-The-Globolinks%21-%5BVINYL%5D/?utm_source=openai\",\"price\":\"$33.32\",\"attributes\":[]},{\"name\":\"help Wanted [VINYL]\",\"url\":\"https://www.klarna.com/us/shopping/pl/cl803/2000225513/CD-Vinyl-Records/help-Wanted-%5BVINYL%5D/?utm_source=openai\",\"price\":\"$22.99\",\"attributes\":[]},{\"name\":\"Help! [Blu-ray] [1965]\",\"url\":\"https://www.klarna.com/us/shopping/pl/cl801/416740550/Movies/Help%21-%5BBlu-ray%5D-%5B1965%5D/?utm_source=openai\",\"price\":\"$21.18\",\"attributes\":[\"Genre:Unclassified\"]},{\"name\":\"Raconteurs Help Us Stranger (Vinyl)\",\"url\":\"https://www.klarna.com/us/shopping/pl/cl803/3204274617/CD-Vinyl-Records/Raconteurs-Help-Us-Stranger-%28Vinyl%29/?utm_source=openai\",\"price\":\"$17.98\",\"attributes\":[]},{\"name\":\"The Beatles - Help! [VINYL]\",\"url\":\"https://www.klarna.com/us/shopping/pl/cl803/2000229703/CD-Vinyl-Records/The-Beatles-Help%21-%5BVINYL%5D/?utm_source=openai\",\"price\":\"$22.49\",\"attributes\":[\"Genre:Children's Music\"]}]}\u001b[0m\u001b[32;1m\u001b[1;3m I now know the final answer\n",
      "Final Answer: Hi Bob, here are some products that might help you: Help Dorman 77573 Interior Door Handle for Specific Cadillac Models Blue;, Creatine Carnage Warfare Creatine Powder to Help Build Lean, Help Help The Globolinks (DVD), Help Me, Help You [LP] VINYL, Sylar Help!, Suzanne Ciani - Help, Help, The Globolinks! [VINYL], help Wanted [VINYL], Help! [Blu-ray] [1965], Raconteurs Help Us Stranger (Vinyl), The Beatles - Help! [VINYL].\u001b[0m\n",
      "\n",
      "\u001b[1m> Finished chain.\u001b[0m\n"
     ]
    },
    {
     "data": {
      "text/plain": [
       "'Hi Bob, here are some products that might help you: Help Dorman 77573 Interior Door Handle for Specific Cadillac Models Blue;, Creatine Carnage Warfare Creatine Powder to Help Build Lean, Help Help The Globolinks (DVD), Help Me, Help You [LP] VINYL, Sylar Help!, Suzanne Ciani - Help, Help, The Globolinks! [VINYL], help Wanted [VINYL], Help! [Blu-ray] [1965], Raconteurs Help Us Stranger (Vinyl), The Beatles - Help! [VINYL].'"
      ]
     },
     "execution_count": 34,
     "metadata": {},
     "output_type": "execute_result"
    }
   ],
   "source": [
    "agent_executor.run(input=\"hi, i am bob\")"
   ]
  },
  {
   "cell_type": "code",
   "execution_count": null,
   "id": "923985e8",
   "metadata": {},
   "outputs": [],
   "source": [
    "agent_executor.run(\"whats my name?\")"
   ]
  },
  {
   "cell_type": "code",
   "execution_count": null,
   "id": "653b1617",
   "metadata": {
    "scrolled": false
   },
   "outputs": [],
   "source": [
    "agent_executor.run(query)"
   ]
  },
  {
   "cell_type": "code",
   "execution_count": null,
   "id": "11187c43",
   "metadata": {},
   "outputs": [],
   "source": [
    "agent_executor.run(\"hi\")"
   ]
  },
  {
   "cell_type": "code",
   "execution_count": null,
   "id": "85e3b73c",
   "metadata": {},
   "outputs": [],
   "source": []
  }
 ],
 "metadata": {
  "kernelspec": {
   "display_name": "Python 3 (ipykernel)",
   "language": "python",
   "name": "python3"
  },
  "language_info": {
   "codemirror_mode": {
    "name": "ipython",
    "version": 3
   },
   "file_extension": ".py",
   "mimetype": "text/x-python",
   "name": "python",
   "nbconvert_exporter": "python",
   "pygments_lexer": "ipython3",
   "version": "3.9.1"
  },
  "vscode": {
   "interpreter": {
    "hash": "18784188d7ecd866c0586ac068b02361a6896dc3a29b64f5cc957f09c590acef"
   }
  }
 },
 "nbformat": 4,
 "nbformat_minor": 5
}
