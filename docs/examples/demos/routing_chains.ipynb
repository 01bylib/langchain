{
 "cells": [
  {
   "cell_type": "markdown",
   "id": "5436020b",
   "metadata": {},
   "source": [
    "# Routing Chains\n",
    "Some applications will require not just a predetermined chain of calls to LLMs/other tools, but potentially an unknown chain that depends on the user input. In these types of chains, there is a \"router\" LLM chain which has access to a suite of tools. Depending on the user input, the router can then decide which, if any, of these tools to call.\n",
    "\n",
    "These types of chains are called Routing Chains. When used correctly these can be extremely powerful. The purpose of this notebook is to show you how to easily use routing chains through the simplest, highest level API. If you want more low level control over various components, check out the documentation for custom routing chains."
   ]
  },
  {
   "cell_type": "markdown",
   "id": "4b21ae68",
   "metadata": {},
   "source": [
    "## Concepts\n",
    "\n",
    "In order to understand routing chains, you should understand the following concepts:\n",
    "- Tool: A function that performs a specific duty. This can be things like: Google Search, Database lookup, Python REPL, other chains. The interface for a tool is currently a function that is expected to have a string as an input, with a string as an output.\n",
    "- LLM: The language model responsible for doing the router.\n",
    "- RouterType: The type of the router to use. This should be a string (see more on the allowed router types below). Because this notebook focuses on the simplest, highest level API, this only covers using the standard supported routers. If you want to implement a custom router, see the documentation for custom routing chains."
   ]
  },
  {
   "cell_type": "markdown",
   "id": "c9677868",
   "metadata": {},
   "source": [
    "## Tools\n",
    "When constructing your own Routing Chain, you will need to provide it with a list of tools that it can use. This is done with a list of ToolConfigs. The ToolConfig is used not only to create the Routing Chain, but is also sometimes used to create the router itself (often, the router logic depends on the tools available). \n",
    "\n",
    "```python\n",
    "class ToolConfig(NamedTuple):\n",
    "    \"\"\"Configuration for tools.\"\"\"\n",
    "\n",
    "    tool_name: str\n",
    "    tool: Callable[[str], str]\n",
    "    # Needed to construct some routers.\n",
    "    tool_description: Optional[str] = None\n",
    "```\n",
    "\n",
    "The two required components of a ToolConfig are the name and then the tool itself. A tool description is optional, as it is needed for some routers but not all."
   ]
  },
  {
   "cell_type": "markdown",
   "id": "2558a02d",
   "metadata": {},
   "source": [
    "## Loading the chains\n",
    "\n",
    "```python\n",
    "from langchain.routing_chains import load_chain\n",
    "\n",
    "tools: List[ToolConfig] = [...]\n",
    "llm: LLM = OpenAI(temperature=0)\n",
    "router_type: str = \"zero-shot\"\n",
    "chain = load_chain(tools, llm, router_type, verbose=True)\n",
    "```"
   ]
  },
  {
   "cell_type": "code",
   "execution_count": null,
   "id": "d3254c6c",
   "metadata": {},
   "outputs": [],
   "source": []
  }
 ],
 "metadata": {
  "kernelspec": {
   "display_name": "Python 3 (ipykernel)",
   "language": "python",
   "name": "python3"
  },
  "language_info": {
   "codemirror_mode": {
    "name": "ipython",
    "version": 3
   },
   "file_extension": ".py",
   "mimetype": "text/x-python",
   "name": "python",
   "nbconvert_exporter": "python",
   "pygments_lexer": "ipython3",
   "version": "3.7.6"
  }
 },
 "nbformat": 4,
 "nbformat_minor": 5
}
