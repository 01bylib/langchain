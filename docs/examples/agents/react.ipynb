{
 "cells": [
  {
   "cell_type": "markdown",
   "id": "82140df0",
   "metadata": {},
   "source": [
    "# ReAct\n",
    "\n",
    "This notebook showcases using an agent to implement the ReAct logic."
   ]
  },
  {
   "cell_type": "code",
   "execution_count": 1,
   "id": "4e272b47",
   "metadata": {},
   "outputs": [],
   "source": [
    "from langchain import OpenAI, Wikipedia\n",
    "from langchain.agents import initialize_agent, Tool\n",
    "from langchain.agents.react.base import DocstoreExplorer\n",
    "docstore=DocstoreExplorer(Wikipedia())\n",
    "tools = [\n",
    "    Tool(\n",
    "        name=\"Search\",\n",
    "        func=docstore.search\n",
    "    ),\n",
    "    Tool(\n",
    "        name=\"Lookup\",\n",
    "        func=docstore.lookup\n",
    "    )\n",
    "]\n",
    "\n",
    "llm = OpenAI(temperature=0)\n",
    "react = initialize_agent(tools, llm, agent=\"react-docstore\", verbose=True)"
   ]
  },
  {
   "cell_type": "code",
   "execution_count": 2,
   "id": "8078c8f1",
   "metadata": {},
   "outputs": [
    {
     "name": "stdout",
     "output_type": "stream",
     "text": [
      "\n",
      "\n",
      "\u001b[1m> Entering new ReActDocstoreAgent chain...\u001b[0m\n",
      "Author David Chanoff has collaborated with a U.S. Navy admiral who served as the ambassador to the United Kingdom under which President?\n",
      "Thought 1:\u001b[32;1m\u001b[1;3m I need to search David Chanoff and the U.S. Navy admiral, find the ambassador to the United Kingdom, then find the President they served under.\n",
      "Action 1: Search[David Chanoff]\u001b[0m\n",
      "Observation 1: \u001b[36;1m\u001b[1;3mDavid Chanoff is a noted author of non-fiction work. His work has typically involved collaborations with the principal protagonist of the work concerned. His collaborators have included; Augustus A. White, Joycelyn Elders, Đoàn Văn Toại, William J. Crowe, Ariel Sharon, Kenneth Good and Felix Zandman. He has also written about a wide range of subjects including literary history, education and foreign for The Washington Post, The New Republic and The New York Times Magazine. He has published more than twelve books.\u001b[0m\n",
      "Thought 2:\u001b[32;1m\u001b[1;3m David Chanoff has collaborated with a U.S. Navy admiral. I need to search the U.S. Navy admiral and find the ambassador to the United Kingdom.\n",
      "Action 2: Search[U.S. Navy admiral]\u001b[0m\n",
      "Observation 2: \u001b[36;1m\u001b[1;3mAdmiral of the Navy was the highest-possible rank in the United States Navy, prior to the creation of fleet admiral in 1944. The rank is considered to be at least equivalent to that of a five-star admiral, with Admiral George Dewey being the only officer to be appointed to the rank.\u001b[0m\n",
      "Thought 3:\u001b[32;1m\u001b[1;3m The U.S. Navy admiral is Admiral George Dewey. I need to search Admiral George Dewey and find the ambassador to the United Kingdom.\n",
      "Action 3: Search[Admiral George Dewey]\u001b[0m\n",
      "Observation 3: \u001b[36;1m\u001b[1;3mGeorge Dewey (December 26, 1837 – January 16, 1917) was Admiral of the Navy, the only person in United States history to have attained that rank. He is best known for his victory at the Battle of Manila Bay during the Spanish–American War, with the loss of only a single crewman on the American side.\n",
      "Dewey was born in Montpelier, Vermont. At age 15, Dewey's father enrolled him at Norwich University in Northfield, Vermont. Two years later Norwich expelled him for drunkenness and herding sheep into the barracks. Summarily, he entered the United States Naval Academy in 1854. He graduated from the academy in 1858 and was assigned as the executive lieutenant of the USS Mississippi at the beginning of the Civil War. He participated in the capture of New Orleans and the Siege of Port Hudson, helping the Union take control of the Mississippi River. By the end of the war, Dewey reached the rank of lieutenant commander.\n",
      "After the Civil War, Dewey undertook a variety of assignments, serving on multiple ships (including the USS Constitution) and as an instructor at the Naval Academy. He also served on the United States Lighthouse Board and the Board of Inspection and Survey. He was promoted to commodore in 1896 and assigned to the Asiatic Squadron the following year. After that appointment, he began preparations for a potential war with Spain, which broke out in April 1898. Immediately after the beginning of the war, Dewey led an attack on Manila Bay, sinking the entire Spanish Pacific fleet while suffering only minor casualties. After the battle, his fleet assisted in the capture of Manila. Dewey's victory at Manila Bay was widely lauded in the United States, and he was promoted to Admiral of the Navy in 1903.\n",
      "Dewey explored a run for the 1900 Democratic presidential nomination, but he withdrew from the race and endorsed President William McKinley. He served on the General Board of the United States Navy, an important policy-making body, from 1900 until his death in 1917.\u001b[0m\n",
      "Thought 4:\u001b[32;1m\u001b[1;3m Admiral George Dewey served as the ambassador to the United Kingdom under President William McKinley.\n",
      "Action 4: Finish[William McKinley]\u001b[0m\n",
      "\u001b[1m> Finished ReActDocstoreAgent chain.\u001b[0m\n"
     ]
    },
    {
     "data": {
      "text/plain": [
       "'William McKinley'"
      ]
     },
     "execution_count": 2,
     "metadata": {},
     "output_type": "execute_result"
    }
   ],
   "source": [
    "question = \"Author David Chanoff has collaborated with a U.S. Navy admiral who served as the ambassador to the United Kingdom under which President?\"\n",
    "react.run(question)"
   ]
  },
  {
   "cell_type": "code",
   "execution_count": null,
   "id": "4ff64e81",
   "metadata": {},
   "outputs": [],
   "source": []
  }
 ],
 "metadata": {
  "kernelspec": {
   "display_name": "Python 3 (ipykernel)",
   "language": "python",
   "name": "python3"
  },
  "language_info": {
   "codemirror_mode": {
    "name": "ipython",
    "version": 3
   },
   "file_extension": ".py",
   "mimetype": "text/x-python",
   "name": "python",
   "nbconvert_exporter": "python",
   "pygments_lexer": "ipython3",
   "version": "3.7.6"
  }
 },
 "nbformat": 4,
 "nbformat_minor": 5
}
