{
 "cells": [
  {
   "cell_type": "markdown",
   "id": "e78b7bb1",
   "metadata": {},
   "source": [
    "# Data Augmented Question Answering\n",
    "\n",
    "This notebook uses some generic prompts/language models to evaluate an question answering system that uses other sources of data besides what is in the model. For example, this can be used to evaluate a question answering system over your propritary data.\n",
    "\n",
    "## Setup\n",
    "Let's set up an example with our favorite example - the state of the union address."
   ]
  },
  {
   "cell_type": "code",
   "execution_count": 1,
   "id": "ab4a6931",
   "metadata": {},
   "outputs": [],
   "source": [
    "from langchain.embeddings.openai import OpenAIEmbeddings\n",
    "from langchain.vectorstores import Chroma\n",
    "from langchain.text_splitter import CharacterTextSplitter\n",
    "from langchain import OpenAI, VectorDBQA"
   ]
  },
  {
   "cell_type": "code",
   "execution_count": 2,
   "id": "4fdc211d",
   "metadata": {},
   "outputs": [
    {
     "name": "stdout",
     "output_type": "stream",
     "text": [
      "Running Chroma using direct local API.\n",
      "Using DuckDB in-memory for database. Data will be transient.\n"
     ]
    }
   ],
   "source": [
    "from langchain.document_loaders import TextLoader\n",
    "loader = TextLoader('../../modules/state_of_the_union.txt')\n",
    "documents = loader.load()\n",
    "text_splitter = CharacterTextSplitter(chunk_size=1000, chunk_overlap=0)\n",
    "texts = text_splitter.split_documents(documents)\n",
    "\n",
    "embeddings = OpenAIEmbeddings()\n",
    "docsearch = Chroma.from_documents(texts, embeddings)\n",
    "qa = VectorDBQA.from_llm(llm=OpenAI(), vectorstore=docsearch)"
   ]
  },
  {
   "cell_type": "code",
   "execution_count": 3,
   "id": "dd829d76",
   "metadata": {},
   "outputs": [],
   "source": [
    "from langchain.chat.vector_db_qa import VectorDBQA as ChatVectorDBQA\n",
    "from langchain.chat_models import ChatOpenAI"
   ]
  },
  {
   "cell_type": "code",
   "execution_count": 4,
   "id": "52015180",
   "metadata": {},
   "outputs": [],
   "source": [
    "chat_qa = ChatVectorDBQA.from_model(model = ChatOpenAI(temperature=0), vectorstore=docsearch)"
   ]
  },
  {
   "cell_type": "markdown",
   "id": "30fd72f2",
   "metadata": {},
   "source": [
    "## Examples\n",
    "Now we need some examples to evaluate. We can do this in two ways:\n",
    "\n",
    "1. Hard code some examples ourselves\n",
    "2. Generate examples automatically, using a language model"
   ]
  },
  {
   "cell_type": "code",
   "execution_count": 5,
   "id": "3459b001",
   "metadata": {},
   "outputs": [],
   "source": [
    "# Hard-coded examples\n",
    "examples = [\n",
    "    {\n",
    "        \"query\": \"What did the president say about Ketanji Brown Jackson\",\n",
    "        \"answer\": \"He praised her legal ability and said he nominated her for the supreme court.\"\n",
    "    },\n",
    "    {\n",
    "        \"query\": \"What did the president say about Michael Jackson\",\n",
    "        \"answer\": \"Nothing\"\n",
    "    }\n",
    "]"
   ]
  },
  {
   "cell_type": "code",
   "execution_count": 6,
   "id": "b9c3fa75",
   "metadata": {},
   "outputs": [],
   "source": [
    "# Generated examples\n",
    "from langchain.evaluation.qa import QAGenerateChain\n",
    "example_gen_chain = QAGenerateChain.from_llm(OpenAI())"
   ]
  },
  {
   "cell_type": "code",
   "execution_count": 7,
   "id": "c24543a9",
   "metadata": {},
   "outputs": [],
   "source": [
    "new_examples = example_gen_chain.apply_and_parse([{\"doc\": t} for t in texts[:5]])"
   ]
  },
  {
   "cell_type": "code",
   "execution_count": 8,
   "id": "a2d27560",
   "metadata": {},
   "outputs": [
    {
     "data": {
      "text/plain": [
       "[{'query': 'Who did Vladimir Putin think he would meet when he entered Ukraine?',\n",
       "  'answer': 'He thought he would meet the world and that it would roll over.'},\n",
       " {'query': 'Who is the Ukrainian Ambassador to the United States?',\n",
       "  'answer': 'The Ukrainian Ambassador to the United States is mentioned in the document.'},\n",
       " {'query': 'How many countries have joined the coalition to confront Putin?',\n",
       "  'answer': '27 members of the European Union, France, Germany, Italy, the United Kingdom, Canada, Japan, Korea, Australia, New Zealand, and many others, even Switzerland.'},\n",
       " {'query': 'What is the U.S. Department of Justice doing to go after the crimes of Russian oligarchs?',\n",
       "  'answer': 'The U.S. Department of Justice is assembling a dedicated task force to go after the crimes of Russian oligarchs and join with European allies to find and seize yachts, luxury apartments, and private jets.'},\n",
       " {'query': 'What percentage of value has the Ruble lost due to the actions of the US and its allies?',\n",
       "  'answer': '30%'}]"
      ]
     },
     "execution_count": 8,
     "metadata": {},
     "output_type": "execute_result"
    }
   ],
   "source": [
    "new_examples"
   ]
  },
  {
   "cell_type": "code",
   "execution_count": 9,
   "id": "558da6f3",
   "metadata": {},
   "outputs": [],
   "source": [
    "# Combine examples\n",
    "examples += new_examples"
   ]
  },
  {
   "cell_type": "markdown",
   "id": "443dc34e",
   "metadata": {},
   "source": [
    "## Evaluate\n",
    "Now that we have examples, we can use the question answering evaluator to evaluate our question answering chain."
   ]
  },
  {
   "cell_type": "code",
   "execution_count": 10,
   "id": "1bb77416",
   "metadata": {},
   "outputs": [],
   "source": [
    "predictions = qa.apply(examples)"
   ]
  },
  {
   "cell_type": "code",
   "execution_count": 11,
   "id": "8749e5ae",
   "metadata": {},
   "outputs": [],
   "source": [
    "chat_predictions = chat_qa.apply(examples)"
   ]
  },
  {
   "cell_type": "code",
   "execution_count": 12,
   "id": "bcd0ad7f",
   "metadata": {},
   "outputs": [],
   "source": [
    "from langchain.evaluation.qa.chat_eval_chain import QAEvalChatChain\n",
    "from langchain.chat_models import ChatOpenAI\n",
    "\n",
    "model = ChatOpenAI(temperature=0)\n",
    "\n",
    "eval_chain = QAEvalChatChain.from_model(model)"
   ]
  },
  {
   "cell_type": "code",
   "execution_count": 13,
   "id": "2e6af79a",
   "metadata": {},
   "outputs": [],
   "source": [
    "graded_outputs = eval_chain.evaluate(examples, predictions)\n",
    "graded_chat_outputs = eval_chain.evaluate(examples, chat_predictions)"
   ]
  },
  {
   "cell_type": "code",
   "execution_count": 14,
   "id": "32fac2dc",
   "metadata": {},
   "outputs": [
    {
     "name": "stdout",
     "output_type": "stream",
     "text": [
      "Example 0:\n",
      "Question: What did the president say about Ketanji Brown Jackson\n",
      "Real Answer: He praised her legal ability and said he nominated her for the supreme court.\n",
      "Predicted Answer:  The president said that Ketanji Brown Jackson is \"one of our nation's top legal minds\" and that she will \"continue Justice Breyer's legacy of excellence.\"\n",
      "Predicted Grade: GRADE: INCORRECT\n",
      "\n",
      "Example 1:\n",
      "Question: What did the president say about Michael Jackson\n",
      "Real Answer: Nothing\n",
      "Predicted Answer:  The president did not mention Michael Jackson in the given context.\n",
      "Predicted Grade: GRADE: CORRECT\n",
      "\n",
      "Example 2:\n",
      "Question: Who did Vladimir Putin think he would meet when he entered Ukraine?\n",
      "Real Answer: He thought he would meet the world and that it would roll over.\n",
      "Predicted Answer:  Putin thought he would meet a divided West and NATO that would not respond to his aggression.\n",
      "Predicted Grade: GRADE: INCORRECT\n",
      "\n",
      "Example 3:\n",
      "Question: Who is the Ukrainian Ambassador to the United States?\n",
      "Real Answer: The Ukrainian Ambassador to the United States is mentioned in the document.\n",
      "Predicted Answer:  I don't know.\n",
      "Predicted Grade: GRADE: INCORRECT\n",
      "\n",
      "Example 4:\n",
      "Question: How many countries have joined the coalition to confront Putin?\n",
      "Real Answer: 27 members of the European Union, France, Germany, Italy, the United Kingdom, Canada, Japan, Korea, Australia, New Zealand, and many others, even Switzerland.\n",
      "Predicted Answer:  27 members of the European Union, France, Germany, Italy, the United Kingdom, Canada, Japan, Korea, Australia, New Zealand, and many others, including Switzerland.\n",
      "Predicted Grade: GRADE: CORRECT\n",
      "\n",
      "Example 5:\n",
      "Question: What is the U.S. Department of Justice doing to go after the crimes of Russian oligarchs?\n",
      "Real Answer: The U.S. Department of Justice is assembling a dedicated task force to go after the crimes of Russian oligarchs and join with European allies to find and seize yachts, luxury apartments, and private jets.\n",
      "Predicted Answer:  The U.S. Department of Justice is assembling a dedicated task force to go after the crimes of Russian oligarchs. They are joining with European allies to find and seize yachts, luxury apartments, and private jets, and are coming for the ill-begotten gains.\n",
      "Predicted Grade: GRADE: CORRECT\n",
      "\n",
      "Example 6:\n",
      "Question: What percentage of value has the Ruble lost due to the actions of the US and its allies?\n",
      "Real Answer: 30%\n",
      "Predicted Answer:  The Ruble has lost 30% of its value.\n",
      "Predicted Grade: GRADE: CORRECT\n",
      "\n"
     ]
    }
   ],
   "source": [
    "for i, eg in enumerate(examples):\n",
    "    print(f\"Example {i}:\")\n",
    "    print(\"Question: \" + predictions[i]['query'])\n",
    "    print(\"Real Answer: \" + predictions[i]['answer'])\n",
    "    print(\"Predicted Answer: \" + predictions[i]['result'])\n",
    "    print(\"Predicted Grade: \" + graded_outputs[i]['text'])\n",
    "    print()"
   ]
  },
  {
   "cell_type": "code",
   "execution_count": 15,
   "id": "bd0b01dc",
   "metadata": {},
   "outputs": [
    {
     "name": "stdout",
     "output_type": "stream",
     "text": [
      "Example 0:\n",
      "Question: What did the president say about Ketanji Brown Jackson\n",
      "Real Answer: He praised her legal ability and said he nominated her for the supreme court.\n",
      "Predicted Answer: The President said that he nominated Circuit Court of Appeals Judge Ketanji Brown Jackson for the United States Supreme Court, and that she is one of the nation's top legal minds who will continue Justice Breyer's legacy of excellence. He also mentioned that she has received broad support from various groups, including the Fraternal Order of Police and former judges appointed by Democrats and Republicans.\n",
      "Predicted Grade: GRADE: INCORRECT\n",
      "\n",
      "Example 1:\n",
      "Question: What did the president say about Michael Jackson\n",
      "Real Answer: Nothing\n",
      "Predicted Answer: I'm sorry, I cannot provide an answer to that question as there is no mention of Michael Jackson in the given speech.\n",
      "Predicted Grade: GRADE: CORRECT\n",
      "\n",
      "Example 2:\n",
      "Question: Who did Vladimir Putin think he would meet when he entered Ukraine?\n",
      "Real Answer: He thought he would meet the world and that it would roll over.\n",
      "Predicted Answer: Vladimir Putin likely thought he would meet a weak and divided Ukraine, and a world that would not stand up to his aggression. He may have also believed that he could exploit divisions within the West and NATO to achieve his goals. However, he was proven wrong on all counts. The Ukrainian people have shown remarkable courage and resilience in the face of Russian aggression, and the world has come together to condemn Putin's actions and impose consequences.\n",
      "Predicted Grade: GRADE: INCORRECT\n",
      "\n",
      "Example 3:\n",
      "Question: Who is the Ukrainian Ambassador to the United States?\n",
      "Real Answer: The Ukrainian Ambassador to the United States is mentioned in the document.\n",
      "Predicted Answer: I'm sorry, I do not have access to real-time information. As an AI language model, my database only contains general knowledge and not current events or specific details.\n",
      "Predicted Grade: GRADE: INCORRECT\n",
      "\n",
      "Example 4:\n",
      "Question: How many countries have joined the coalition to confront Putin?\n",
      "Real Answer: 27 members of the European Union, France, Germany, Italy, the United Kingdom, Canada, Japan, Korea, Australia, New Zealand, and many others, even Switzerland.\n",
      "Predicted Answer: According to the statement, \"We spent months building a coalition of other freedom-loving nations from Europe and the Americas to Asia and Africa to confront Putin.\" The statement also mentions that \"Along with twenty-seven members of the European Union including France, Germany, Italy, as well as countries like the United Kingdom, Canada, Japan, Korea, Australia, New Zealand, and many others, even Switzerland\" have joined the coalition. Therefore, it can be inferred that more than 27 countries have joined the coalition to confront Putin.\n",
      "Predicted Grade: GRADE: CORRECT\n",
      "\n",
      "Example 5:\n",
      "Question: What is the U.S. Department of Justice doing to go after the crimes of Russian oligarchs?\n",
      "Real Answer: The U.S. Department of Justice is assembling a dedicated task force to go after the crimes of Russian oligarchs and join with European allies to find and seize yachts, luxury apartments, and private jets.\n",
      "Predicted Answer: The U.S. Department of Justice is assembling a dedicated task force to go after the crimes of Russian oligarchs. This task force will work to find and seize the ill-gotten gains of corrupt Russian leaders who have bilked billions of dollars off this violent regime. The U.S. government is joining with its European allies to track down and seize the yachts, luxury apartments, and private jets of these oligarchs. The goal is to hold these individuals accountable for their crimes and to prevent them from benefiting from their corrupt activities.\n",
      "Predicted Grade: GRADE: CORRECT\n",
      "\n",
      "Example 6:\n",
      "Question: What percentage of value has the Ruble lost due to the actions of the US and its allies?\n",
      "Real Answer: 30%\n",
      "Predicted Answer: In the speech, it is mentioned that the Ruble has lost 30% of its value.\n",
      "Predicted Grade: GRADE: CORRECT\n",
      "\n"
     ]
    }
   ],
   "source": [
    "for i, eg in enumerate(examples):\n",
    "    print(f\"Example {i}:\")\n",
    "    print(\"Question: \" + chat_predictions[i]['query'])\n",
    "    print(\"Real Answer: \" + chat_predictions[i]['answer'])\n",
    "    print(\"Predicted Answer: \" + chat_predictions[i]['result'])\n",
    "    print(\"Predicted Grade: \" + graded_chat_outputs[i]['text'])\n",
    "    print()"
   ]
  },
  {
   "cell_type": "code",
   "execution_count": 16,
   "id": "9b593afd",
   "metadata": {},
   "outputs": [],
   "source": [
    "from langchain.evaluation.qa import QAEvalChain\n",
    "predictions = qa.apply(examples)\n",
    "llm = OpenAI(temperature=0)\n",
    "eval_chain = QAEvalChain.from_llm(llm)\n",
    "normal_graded_outputs = eval_chain.evaluate(examples, predictions)\n",
    "\n",
    "normal_graded_chat_outputs = eval_chain.evaluate(examples, chat_predictions)"
   ]
  },
  {
   "cell_type": "code",
   "execution_count": 17,
   "id": "4c003bbe",
   "metadata": {},
   "outputs": [
    {
     "name": "stdout",
     "output_type": "stream",
     "text": [
      "Example 0:\n",
      "Question: What did the president say about Ketanji Brown Jackson\n",
      "Real Answer: He praised her legal ability and said he nominated her for the supreme court.\n",
      "Predicted Answer:  The president said that she is one of the nation's top legal minds, a former top litigator in private practice, a former federal public defender, and from a family of public school educators and police officers. He also mentioned that she has received a broad range of support from the Fraternal Order of Police to former judges appointed by Democrats and Republicans.\n",
      "Predicted Grade:  CORRECT\n",
      "\n",
      "Example 1:\n",
      "Question: What did the president say about Michael Jackson\n",
      "Real Answer: Nothing\n",
      "Predicted Answer:  The president did not mention Michael Jackson.\n",
      "Predicted Grade:  CORRECT\n",
      "\n",
      "Example 2:\n",
      "Question: Who did Vladimir Putin think he would meet when he entered Ukraine?\n",
      "Real Answer: He thought he would meet the world and that it would roll over.\n",
      "Predicted Answer:  Putin thought he would meet people who would roll over and accept his aggression.\n",
      "Predicted Grade:  INCORRECT\n",
      "\n",
      "Example 3:\n",
      "Question: Who is the Ukrainian Ambassador to the United States?\n",
      "Real Answer: The Ukrainian Ambassador to the United States is mentioned in the document.\n",
      "Predicted Answer:  I don't know.\n",
      "Predicted Grade:  INCORRECT\n",
      "\n",
      "Example 4:\n",
      "Question: How many countries have joined the coalition to confront Putin?\n",
      "Real Answer: 27 members of the European Union, France, Germany, Italy, the United Kingdom, Canada, Japan, Korea, Australia, New Zealand, and many others, even Switzerland.\n",
      "Predicted Answer:  27 members of the European Union including France, Germany, Italy, the United Kingdom, Canada, Japan, Korea, Australia, New Zealand, and many others, even Switzerland.\n",
      "Predicted Grade:  CORRECT\n",
      "\n",
      "Example 5:\n",
      "Question: What is the U.S. Department of Justice doing to go after the crimes of Russian oligarchs?\n",
      "Real Answer: The U.S. Department of Justice is assembling a dedicated task force to go after the crimes of Russian oligarchs and join with European allies to find and seize yachts, luxury apartments, and private jets.\n",
      "Predicted Answer:  The U.S. Department of Justice is assembling a dedicated task force to go after the crimes of Russian oligarchs. They are joining with European allies to find and seize their yachts, luxury apartments, and private jets, and they are coming for their ill-begotten gains.\n",
      "Predicted Grade:  CORRECT\n",
      "\n",
      "Example 6:\n",
      "Question: What percentage of value has the Ruble lost due to the actions of the US and its allies?\n",
      "Real Answer: 30%\n",
      "Predicted Answer:  The Ruble has lost 30% of its value.\n",
      "Predicted Grade:  CORRECT\n",
      "\n"
     ]
    }
   ],
   "source": [
    "for i, eg in enumerate(examples):\n",
    "    print(f\"Example {i}:\")\n",
    "    print(\"Question: \" + predictions[i]['query'])\n",
    "    print(\"Real Answer: \" + predictions[i]['answer'])\n",
    "    print(\"Predicted Answer: \" + predictions[i]['result'])\n",
    "    print(\"Predicted Grade: \" + normal_graded_outputs[i]['text'])\n",
    "    print()"
   ]
  },
  {
   "cell_type": "code",
   "execution_count": 18,
   "id": "3e56d416",
   "metadata": {},
   "outputs": [
    {
     "name": "stdout",
     "output_type": "stream",
     "text": [
      "Example 0:\n",
      "Question: What did the president say about Ketanji Brown Jackson\n",
      "Real Answer: He praised her legal ability and said he nominated her for the supreme court.\n",
      "Predicted Answer: The President said that he nominated Circuit Court of Appeals Judge Ketanji Brown Jackson for the United States Supreme Court, and that she is one of the nation's top legal minds who will continue Justice Breyer's legacy of excellence. He also mentioned that she has received broad support from various groups, including the Fraternal Order of Police and former judges appointed by Democrats and Republicans.\n",
      "Predicted Grade:  CORRECT\n",
      "\n",
      "Example 1:\n",
      "Question: What did the president say about Michael Jackson\n",
      "Real Answer: Nothing\n",
      "Predicted Answer: I'm sorry, I cannot provide an answer to that question as there is no mention of Michael Jackson in the given speech.\n",
      "Predicted Grade:  CORRECT\n",
      "\n",
      "Example 2:\n",
      "Question: Who did Vladimir Putin think he would meet when he entered Ukraine?\n",
      "Real Answer: He thought he would meet the world and that it would roll over.\n",
      "Predicted Answer: Vladimir Putin likely thought he would meet a weak and divided Ukraine, and a world that would not stand up to his aggression. He may have also believed that he could exploit divisions within the West and NATO to achieve his goals. However, he was proven wrong on all counts. The Ukrainian people have shown remarkable courage and resilience in the face of Russian aggression, and the world has come together to condemn Putin's actions and impose consequences.\n",
      "Predicted Grade:  INCORRECT\n",
      "\n",
      "Example 3:\n",
      "Question: Who is the Ukrainian Ambassador to the United States?\n",
      "Real Answer: The Ukrainian Ambassador to the United States is mentioned in the document.\n",
      "Predicted Answer: I'm sorry, I do not have access to real-time information. As an AI language model, my database only contains general knowledge and not current events or specific details.\n",
      "Predicted Grade:  INCORRECT\n",
      "\n",
      "Example 4:\n",
      "Question: How many countries have joined the coalition to confront Putin?\n",
      "Real Answer: 27 members of the European Union, France, Germany, Italy, the United Kingdom, Canada, Japan, Korea, Australia, New Zealand, and many others, even Switzerland.\n",
      "Predicted Answer: According to the statement, \"We spent months building a coalition of other freedom-loving nations from Europe and the Americas to Asia and Africa to confront Putin.\" The statement also mentions that \"Along with twenty-seven members of the European Union including France, Germany, Italy, as well as countries like the United Kingdom, Canada, Japan, Korea, Australia, New Zealand, and many others, even Switzerland\" have joined the coalition. Therefore, it can be inferred that more than 27 countries have joined the coalition to confront Putin.\n",
      "Predicted Grade:  INCORRECT\n",
      "\n",
      "Example 5:\n",
      "Question: What is the U.S. Department of Justice doing to go after the crimes of Russian oligarchs?\n",
      "Real Answer: The U.S. Department of Justice is assembling a dedicated task force to go after the crimes of Russian oligarchs and join with European allies to find and seize yachts, luxury apartments, and private jets.\n",
      "Predicted Answer: The U.S. Department of Justice is assembling a dedicated task force to go after the crimes of Russian oligarchs. This task force will work to find and seize the ill-gotten gains of corrupt Russian leaders who have bilked billions of dollars off this violent regime. The U.S. government is joining with its European allies to track down and seize the yachts, luxury apartments, and private jets of these oligarchs. The goal is to hold these individuals accountable for their crimes and to prevent them from benefiting from their corrupt activities.\n",
      "Predicted Grade:  CORRECT\n",
      "\n",
      "Example 6:\n",
      "Question: What percentage of value has the Ruble lost due to the actions of the US and its allies?\n",
      "Real Answer: 30%\n",
      "Predicted Answer: In the speech, it is mentioned that the Ruble has lost 30% of its value.\n",
      "Predicted Grade:  CORRECT\n",
      "\n"
     ]
    }
   ],
   "source": [
    "for i, eg in enumerate(examples):\n",
    "    print(f\"Example {i}:\")\n",
    "    print(\"Question: \" + chat_predictions[i]['query'])\n",
    "    print(\"Real Answer: \" + chat_predictions[i]['answer'])\n",
    "    print(\"Predicted Answer: \" + chat_predictions[i]['result'])\n",
    "    print(\"Predicted Grade: \" + normal_graded_chat_outputs[i]['text'])\n",
    "    print()"
   ]
  },
  {
   "cell_type": "code",
   "execution_count": 19,
   "id": "473136a5",
   "metadata": {},
   "outputs": [],
   "source": [
    "from langchain.evaluation.qa.chat_comp_chain import QACompChatChain"
   ]
  },
  {
   "cell_type": "code",
   "execution_count": null,
   "id": "d6f6eb50",
   "metadata": {},
   "outputs": [],
   "source": []
  },
  {
   "cell_type": "code",
   "execution_count": 20,
   "id": "52cf1ea3",
   "metadata": {},
   "outputs": [],
   "source": [
    "comp_chain = QACompChatChain.from_model(ChatOpenAI(temperature=0))"
   ]
  },
  {
   "cell_type": "code",
   "execution_count": 21,
   "id": "e5562c58",
   "metadata": {},
   "outputs": [],
   "source": [
    "comps = comp_chain.evaluate(examples, predictions, chat_predictions)"
   ]
  },
  {
   "cell_type": "code",
   "execution_count": 22,
   "id": "1b8ab1de",
   "metadata": {
    "scrolled": false
   },
   "outputs": [
    {
     "name": "stdout",
     "output_type": "stream",
     "text": [
      "## Example 0:\n",
      "\n",
      "Question: What did the president say about Ketanji Brown Jackson\n",
      "\n",
      "Real Answer: He praised her legal ability and said he nominated her for the supreme court.\n",
      "\n",
      "Normal Answer:  The president said that she is one of the nation's top legal minds, a former top litigator in private practice, a former federal public defender, and from a family of public school educators and police officers. He also mentioned that she has received a broad range of support from the Fraternal Order of Police to former judges appointed by Democrats and Republicans.\n",
      "\n",
      "Chat Answer: The President said that he nominated Circuit Court of Appeals Judge Ketanji Brown Jackson for the United States Supreme Court, and that she is one of the nation's top legal minds who will continue Justice Breyer's legacy of excellence. He also mentioned that she has received broad support from various groups, including the Fraternal Order of Police and former judges appointed by Democrats and Republicans.\n",
      "\n",
      "Comparison: Student A's answer is more verbose, detailed, and includes more information than Student B's answer. However, Student B's answer is more concise and accurately summarizes the main points of the president's statement.\n",
      "\n",
      "## Example 1:\n",
      "\n",
      "Question: What did the president say about Michael Jackson\n",
      "\n",
      "Real Answer: Nothing\n",
      "\n",
      "Normal Answer:  The president did not mention Michael Jackson.\n",
      "\n",
      "Chat Answer: I'm sorry, I cannot provide an answer to that question as there is no mention of Michael Jackson in the given speech.\n",
      "\n",
      "Comparison: Student A's answer is more verbose and less succint than Student B's answer. However, Student A's answer is still correct while Student B's answer is technically correct but not very helpful.\n",
      "\n",
      "## Example 2:\n",
      "\n",
      "Question: Who did Vladimir Putin think he would meet when he entered Ukraine?\n",
      "\n",
      "Real Answer: He thought he would meet the world and that it would roll over.\n",
      "\n",
      "Normal Answer:  Putin thought he would meet people who would roll over and accept his aggression.\n",
      "\n",
      "Chat Answer: Vladimir Putin likely thought he would meet a weak and divided Ukraine, and a world that would not stand up to his aggression. He may have also believed that he could exploit divisions within the West and NATO to achieve his goals. However, he was proven wrong on all counts. The Ukrainian people have shown remarkable courage and resilience in the face of Russian aggression, and the world has come together to condemn Putin's actions and impose consequences.\n",
      "\n",
      "Comparison: Student A's answer is less precise and less accurate than Student B's answer. Student B's answer is more detailed, accurate, and informative than Student A's answer.\n",
      "\n",
      "## Example 3:\n",
      "\n",
      "Question: Who is the Ukrainian Ambassador to the United States?\n",
      "\n",
      "Real Answer: The Ukrainian Ambassador to the United States is mentioned in the document.\n",
      "\n",
      "Normal Answer:  I don't know.\n",
      "\n",
      "Chat Answer: I'm sorry, I do not have access to real-time information. As an AI language model, my database only contains general knowledge and not current events or specific details.\n",
      "\n",
      "Comparison: Student A's answer is less informative, less correct. Student B's answer is more polite, more detailed, more informative.\n",
      "\n",
      "## Example 4:\n",
      "\n",
      "Question: How many countries have joined the coalition to confront Putin?\n",
      "\n",
      "Real Answer: 27 members of the European Union, France, Germany, Italy, the United Kingdom, Canada, Japan, Korea, Australia, New Zealand, and many others, even Switzerland.\n",
      "\n",
      "Normal Answer:  27 members of the European Union including France, Germany, Italy, the United Kingdom, Canada, Japan, Korea, Australia, New Zealand, and many others, even Switzerland.\n",
      "\n",
      "Chat Answer: According to the statement, \"We spent months building a coalition of other freedom-loving nations from Europe and the Americas to Asia and Africa to confront Putin.\" The statement also mentions that \"Along with twenty-seven members of the European Union including France, Germany, Italy, as well as countries like the United Kingdom, Canada, Japan, Korea, Australia, New Zealand, and many others, even Switzerland\" have joined the coalition. Therefore, it can be inferred that more than 27 countries have joined the coalition to confront Putin.\n",
      "\n",
      "Comparison: Student A's answer is less verbose and equally correct compared to Student B's answer.\n",
      "\n",
      "## Example 5:\n",
      "\n",
      "Question: What is the U.S. Department of Justice doing to go after the crimes of Russian oligarchs?\n",
      "\n",
      "Real Answer: The U.S. Department of Justice is assembling a dedicated task force to go after the crimes of Russian oligarchs and join with European allies to find and seize yachts, luxury apartments, and private jets.\n",
      "\n",
      "Normal Answer:  The U.S. Department of Justice is assembling a dedicated task force to go after the crimes of Russian oligarchs. They are joining with European allies to find and seize their yachts, luxury apartments, and private jets, and they are coming for their ill-begotten gains.\n",
      "\n",
      "Chat Answer: The U.S. Department of Justice is assembling a dedicated task force to go after the crimes of Russian oligarchs. This task force will work to find and seize the ill-gotten gains of corrupt Russian leaders who have bilked billions of dollars off this violent regime. The U.S. government is joining with its European allies to track down and seize the yachts, luxury apartments, and private jets of these oligarchs. The goal is to hold these individuals accountable for their crimes and to prevent them from benefiting from their corrupt activities.\n",
      "\n",
      "Comparison: Student A's answer is more succinct and less detailed than Student B's answer. Student B's answer is more descriptive and provides more information about the crimes of Russian oligarchs and the U.S. Department of Justice's efforts to go after them.\n",
      "\n",
      "## Example 6:\n",
      "\n",
      "Question: What percentage of value has the Ruble lost due to the actions of the US and its allies?\n",
      "\n",
      "Real Answer: 30%\n",
      "\n",
      "Normal Answer:  The Ruble has lost 30% of its value.\n",
      "\n",
      "Chat Answer: In the speech, it is mentioned that the Ruble has lost 30% of its value.\n",
      "\n",
      "Comparison: Student A's answer is more concise and equally correct compared to Student B's answer, which is more verbose but still correct.\n",
      "\n"
     ]
    }
   ],
   "source": [
    "for i, eg in enumerate(examples):\n",
    "    print(f\"## Example {i}:\")\n",
    "    print()\n",
    "    print(\"Question: \" + chat_predictions[i]['query'])\n",
    "    print()\n",
    "    print(\"Real Answer: \" + chat_predictions[i]['answer'])\n",
    "    print()\n",
    "    print(\"Normal Answer: \" + predictions[i]['result'])\n",
    "    print()\n",
    "    print(\"Chat Answer: \" + chat_predictions[i]['result'])\n",
    "    print()\n",
    "    print(\"Comparison: \" + comps[i]['text'])\n",
    "    print()"
   ]
  },
  {
   "cell_type": "code",
   "execution_count": null,
   "id": "2b6fcb85",
   "metadata": {},
   "outputs": [],
   "source": []
  }
 ],
 "metadata": {
  "kernelspec": {
   "display_name": "Python 3 (ipykernel)",
   "language": "python",
   "name": "python3"
  },
  "language_info": {
   "codemirror_mode": {
    "name": "ipython",
    "version": 3
   },
   "file_extension": ".py",
   "mimetype": "text/x-python",
   "name": "python",
   "nbconvert_exporter": "python",
   "pygments_lexer": "ipython3",
   "version": "3.9.1"
  }
 },
 "nbformat": 4,
 "nbformat_minor": 5
}
