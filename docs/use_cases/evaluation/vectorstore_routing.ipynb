{
 "cells": [
  {
   "cell_type": "code",
   "execution_count": 15,
   "id": "4669c98a",
   "metadata": {},
   "outputs": [],
   "source": [
    "from langchain.document_loaders import TextLoader\n",
    "sota_loader = TextLoader(\"../../modules/state_of_the_union.txt\")\n",
    "pg_loader = TextLoader(\"../../../../gpt_index/examples/paul_graham_essay/data/paul_graham_essay.txt\")"
   ]
  },
  {
   "cell_type": "code",
   "execution_count": 12,
   "id": "c484ffb5",
   "metadata": {},
   "outputs": [],
   "source": [
    "from langchain.indexes import VectorstoreIndexCreator\n",
    "from langchain.vectorstores import FAISS"
   ]
  },
  {
   "cell_type": "code",
   "execution_count": 13,
   "id": "5b139077",
   "metadata": {},
   "outputs": [],
   "source": [
    "sota_index = VectorstoreIndexCreator(vectorstore_cls=FAISS).from_loaders([sota_loader])\n"
   ]
  },
  {
   "cell_type": "code",
   "execution_count": 16,
   "id": "55fa5f56",
   "metadata": {},
   "outputs": [
    {
     "name": "stdout",
     "output_type": "stream",
     "text": [
      "Running Chroma using direct local API.\n",
      "Using DuckDB in-memory for database. Data will be transient.\n"
     ]
    }
   ],
   "source": [
    "pg_index = VectorstoreIndexCreator(vectorstore_kwargs={\"collection_name\": \"paul-graham\"}).from_loaders([pg_loader])\n"
   ]
  },
  {
   "cell_type": "code",
   "execution_count": 17,
   "id": "edad6e7b",
   "metadata": {},
   "outputs": [
    {
     "data": {
      "text/plain": [
       "\" The President nominated Circuit Court of Appeals Judge Ketanji Brown Jackson to serve on the United States Supreme Court. He said she is one of the nation's top legal minds and will continue Justice Breyer's legacy of excellence.\""
      ]
     },
     "execution_count": 17,
     "metadata": {},
     "output_type": "execute_result"
    }
   ],
   "source": [
    "sota_index.query(\"what did the president about kentaji brown jackson?\")"
   ]
  },
  {
   "cell_type": "code",
   "execution_count": 18,
   "id": "201ff615",
   "metadata": {},
   "outputs": [
    {
     "data": {
      "text/plain": [
       "\" Kentaji Brown Jackson was not mentioned in the context, so I don't know.\""
      ]
     },
     "execution_count": 18,
     "metadata": {},
     "output_type": "execute_result"
    }
   ],
   "source": [
    "pg_index.query(\"what did the president about kentaji brown jackson?\")"
   ]
  },
  {
   "cell_type": "code",
   "execution_count": 19,
   "id": "3f9622e9",
   "metadata": {},
   "outputs": [],
   "source": [
    "from langchain.agents import initialize_agent, Tool\n",
    "from langchain.tools import BaseTool\n",
    "from langchain.llms import OpenAI"
   ]
  },
  {
   "cell_type": "code",
   "execution_count": 20,
   "id": "45158bb9",
   "metadata": {},
   "outputs": [],
   "source": [
    "tools = [\n",
    "    Tool(\n",
    "        name = \"State of Union QA System\",\n",
    "        func=sota_index.query,\n",
    "        description=\"useful for when you need to answer questions about the most recent state of the union address. Input should be a fully formed question.\"\n",
    "    ),\n",
    "    Tool(\n",
    "        name = \"Paul Graham QA System\",\n",
    "        func=pg_index.query,\n",
    "        description=\"useful for when you need to answer questions about Paul Graham. Input should be a fully formed question.\"\n",
    "    ),\n",
    "]"
   ]
  },
  {
   "cell_type": "code",
   "execution_count": 22,
   "id": "11514c7b",
   "metadata": {},
   "outputs": [],
   "source": [
    "agent = initialize_agent(tools, OpenAI(temperature=0), agent=\"zero-shot-react-description\", verbose=True)"
   ]
  },
  {
   "cell_type": "code",
   "execution_count": 24,
   "id": "91cd2c71",
   "metadata": {},
   "outputs": [],
   "source": [
    "import json"
   ]
  },
  {
   "cell_type": "code",
   "execution_count": 25,
   "id": "f55dd305",
   "metadata": {},
   "outputs": [],
   "source": [
    "with open(\"../../../notebooks/state_of_union_qa.json\") as f:\n",
    "    sota_qa = json.load(f)"
   ]
  },
  {
   "cell_type": "code",
   "execution_count": 26,
   "id": "fb0fb286",
   "metadata": {},
   "outputs": [],
   "source": [
    "with open(\"../../../notebooks/paul_graham_qa.json\") as f:\n",
    "    pg_qa = json.load(f)"
   ]
  },
  {
   "cell_type": "code",
   "execution_count": 28,
   "id": "dfb08711",
   "metadata": {},
   "outputs": [],
   "source": [
    "for d in sota_qa:\n",
    "    d['steps'] = [{\"tool\": \"State of Union QA System\"}, {\"tool_input\": d[\"question\"]}]\n",
    "for d in pg_qa:\n",
    "    d['steps'] = [{\"tool\": \"Paul Graham QA System\"}, {\"tool_input\": d[\"question\"]}]"
   ]
  },
  {
   "cell_type": "code",
   "execution_count": 30,
   "id": "f442a356",
   "metadata": {},
   "outputs": [],
   "source": [
    "all_vectorstore_routing = sota_qa + pg_qa"
   ]
  },
  {
   "cell_type": "code",
   "execution_count": 31,
   "id": "7b15160c",
   "metadata": {},
   "outputs": [],
   "source": [
    "with open(\"vectorstore_sota_pg.json\", \"w\") as f:\n",
    "    json.dump(all_vectorstore_routing, f)"
   ]
  },
  {
   "cell_type": "code",
   "execution_count": 33,
   "id": "87bc7826",
   "metadata": {},
   "outputs": [],
   "source": [
    "all_vectorstore_routing = [{'question': 'What is the purpose of the NATO Alliance?',\n",
    "  'answer': 'The purpose of the NATO Alliance is to secure peace and stability in Europe after World War 2.',\n",
    "  'steps': [{'tool': 'State of Union QA System'},\n",
    "   {'tool_input': 'What is the purpose of the NATO Alliance?'}]},\n",
    " {'question': 'What is the U.S. Department of Justice doing to combat the crimes of Russian oligarchs?',\n",
    "  'answer': 'The U.S. Department of Justice is assembling a dedicated task force to go after the crimes of Russian oligarchs.',\n",
    "  'steps': [{'tool': 'State of Union QA System'},\n",
    "   {'tool_input': 'What is the U.S. Department of Justice doing to combat the crimes of Russian oligarchs?'}]},\n",
    " {'question': 'What is the American Rescue Plan and how did it help Americans?',\n",
    "  'answer': 'The American Rescue Plan is a piece of legislation that provided immediate economic relief for tens of millions of Americans. It helped put food on their table, keep a roof over their heads, and cut the cost of health insurance. It created jobs and left no one behind.',\n",
    "  'steps': [{'tool': 'State of Union QA System'},\n",
    "   {'tool_input': 'What is the American Rescue Plan and how did it help Americans?'}]},\n",
    " {'question': 'What is the purpose of the Bipartisan Innovation Act mentioned in the text?',\n",
    "  'answer': 'The Bipartisan Innovation Act will make record investments in emerging technologies and American manufacturing to level the playing field with China and other competitors.',\n",
    "  'steps': [{'tool': 'State of Union QA System'},\n",
    "   {'tool_input': 'What is the purpose of the Bipartisan Innovation Act mentioned in the text?'}]},\n",
    " {'question': \"What is Joe Biden's plan to fight inflation?\",\n",
    "  'answer': \"Joe Biden's plan to fight inflation is to lower costs, not wages, by making more goods in America, increasing the productive capacity of the economy, and cutting the cost of prescription drugs, energy, and child care.\",\n",
    "  'steps': [{'tool': 'State of Union QA System'},\n",
    "   {'tool_input': \"What is Joe Biden's plan to fight inflation?\"}]},\n",
    " {'question': 'What is the proposed minimum tax rate for corporations under the plan?',\n",
    "  'answer': 'The proposed minimum tax rate for corporations is 15%.',\n",
    "  'steps': [{'tool': 'State of Union QA System'},\n",
    "   {'tool_input': 'What is the proposed minimum tax rate for corporations under the plan?'}]},\n",
    " {'question': 'What are the four common sense steps that the author suggests to move forward safely?',\n",
    "  'answer': 'The four common sense steps suggested by the author to move forward safely are: stay protected with vaccines and treatments, prepare for new variants, end the shutdown of schools and businesses, and stay vigilant.',\n",
    "  'steps': [{'tool': 'State of Union QA System'},\n",
    "   {'tool_input': 'What are the four common sense steps that the author suggests to move forward safely?'}]},\n",
    " {'question': 'What is the purpose of the American Rescue Plan?',\n",
    "  'answer': 'The purpose of the American Rescue Plan is to provide $350 Billion that cities, states, and counties can use to hire more police and invest in proven strategies like community violence interruption.',\n",
    "  'steps': [{'tool': 'State of Union QA System'},\n",
    "   {'tool_input': 'What is the purpose of the American Rescue Plan?'}]},\n",
    " {'question': 'What measures does the speaker ask Congress to pass to reduce gun violence?',\n",
    "  'answer': 'The speaker asks Congress to pass universal background checks, ban assault weapons and high-capacity magazines, and repeal the liability shield that makes gun manufacturers the only industry in America that can’t be sued.',\n",
    "  'steps': [{'tool': 'State of Union QA System'},\n",
    "   {'tool_input': 'What measures does the speaker ask Congress to pass to reduce gun violence?'}]},\n",
    " {'question': 'What is the Unity Agenda for the Nation that the President is offering?',\n",
    "  'answer': 'The Unity Agenda for the Nation includes four big things that can be done together: beat the opioid epidemic, take on mental health, support veterans, and strengthen the Violence Against Women Act.',\n",
    "  'steps': [{'tool': 'State of Union QA System'},\n",
    "   {'tool_input': 'What is the Unity Agenda for the Nation that the President is offering?'}]},\n",
    " {'question': 'What is the purpose of ARPA-H?',\n",
    "  'answer': 'ARPA-H will have a singular purpose—to drive breakthroughs in cancer, Alzheimer’s, diabetes, and more.',\n",
    "  'steps': [{'tool': 'State of Union QA System'},\n",
    "   {'tool_input': 'What is the purpose of ARPA-H?'}]},\n",
    " {'question': 'What were the two main things the author worked on before college?',\n",
    "  'answer': 'The two main things the author worked on before college were writing and programming.',\n",
    "  'steps': [{'tool': 'Paul Graham QA System'},\n",
    "   {'tool_input': 'What were the two main things the author worked on before college?'}]},\n",
    " {'question': 'What made the author want to work on AI?',\n",
    "  'answer': \"The novel 'The Moon is a Harsh Mistress' and a PBS documentary showing Terry Winograd using SHRDLU made the author want to work on AI.\",\n",
    "  'steps': [{'tool': 'Paul Graham QA System'},\n",
    "   {'tool_input': 'What made the author want to work on AI?'}]},\n",
    " {'question': 'What did the author realize while looking at a painting at the Carnegie Institute?',\n",
    "  'answer': 'The author realized that paintings were something that could be made to last and that making them was a way to be independent and make a living.',\n",
    "  'steps': [{'tool': 'Paul Graham QA System'},\n",
    "   {'tool_input': 'What did the author realize while looking at a painting at the Carnegie Institute?'}]},\n",
    " {'question': 'What did the author write their dissertation on?',\n",
    "  'answer': 'The author wrote their dissertation on applications of continuations.',\n",
    "  'steps': [{'tool': 'Paul Graham QA System'},\n",
    "   {'tool_input': 'What did the author write their dissertation on?'}]},\n",
    " {'question': 'What is the difference between painting still lives and painting people?',\n",
    "  'answer': \"Painting still lives is different from painting people because the subject, as its name suggests, can't move. People can't sit for more than about 15 minutes at a time, and when they do they don't sit very still. So the traditional m.o. for painting people is to know how to paint a generic person, which you then modify to match the specific person you're painting.\",\n",
    "  'steps': [{'tool': 'Paul Graham QA System'},\n",
    "   {'tool_input': 'What is the difference between painting still lives and painting people?'}]},\n",
    " {'question': 'What did the author learn while working at Interleaf?',\n",
    "  'answer': \"The author learned that low end software tends to eat high end software, that it's better for technology companies to be run by product people than sales people, that it leads to bugs when code is edited by too many people, that cheap office space is no bargain if it's depressing, that planned meetings are inferior to corridor conversations, that big, bureaucratic customers are a dangerous source of money, and that there's not much overlap between conventional office hours and the optimal time for hacking, or conventional offices and the optimal place for it.\",\n",
    "  'steps': [{'tool': 'Paul Graham QA System'},\n",
    "   {'tool_input': 'What did the author learn while working at Interleaf?'}]},\n",
    " {'question': 'What did the author do to survive during the next several years after leaving RISD?',\n",
    "  'answer': 'The author did freelance work for the group that did projects for customers to survive for the next several years after leaving RISD.',\n",
    "  'steps': [{'tool': 'Paul Graham QA System'},\n",
    "   {'tool_input': 'What did the author do to survive during the next several years after leaving RISD?'}]},\n",
    " {'question': \"What was the author's motivation for wanting to become rich?\",\n",
    "  'answer': 'The author wanted to become rich so that he could work on whatever he wanted.',\n",
    "  'steps': [{'tool': 'Paul Graham QA System'},\n",
    "   {'tool_input': \"What was the author's motivation for wanting to become rich?\"}]},\n",
    " {'question': 'What is Viaweb and how did it get its name?',\n",
    "  'answer': 'Viaweb is a company that built a web app for creating online stores. It got its name from the fact that the software worked via the web.',\n",
    "  'steps': [{'tool': 'Paul Graham QA System'},\n",
    "   {'tool_input': 'What is Viaweb and how did it get its name?'}]},\n",
    " {'question': 'What was the price charged by Viaweb for a small store and a big one?',\n",
    "  'answer': '$100 a month for a small store and $300 a month for a big one.',\n",
    "  'steps': [{'tool': 'Paul Graham QA System'},\n",
    "   {'tool_input': 'What was the price charged by Viaweb for a small store and a big one?'}]},\n",
    " {'question': 'Why did the author hire more people for his startup?',\n",
    "  'answer': \"The author hired more people for his startup partly because the investors wanted him to and partly because that's what startups did during the Internet Bubble.\",\n",
    "  'steps': [{'tool': 'Paul Graham QA System'},\n",
    "   {'tool_input': 'Why did the author hire more people for his startup?'}]},\n",
    " {'question': \"What was the author's idea for a new company?\",\n",
    "  'answer': \"The author's idea was to build a web app for making web apps, where people could edit code on their server through the browser and then host the resulting applications for them.\",\n",
    "  'steps': [{'tool': 'Paul Graham QA System'},\n",
    "   {'tool_input': \"What was the author's idea for a new company?\"}]},\n",
    " {'question': \"What was the author's turning point in figuring out what to work on?\",\n",
    "  'answer': \"The author's turning point in figuring out what to work on was when he started publishing essays online.\",\n",
    "  'steps': [{'tool': 'Paul Graham QA System'},\n",
    "   {'tool_input': \"What was the author's turning point in figuring out what to work on?\"}]},\n",
    " {'question': 'What is the danger for the ambitious according to the text?',\n",
    "  'answer': 'The desire to impress people is the danger for the ambitious according to the text.',\n",
    "  'steps': [{'tool': 'Paul Graham QA System'},\n",
    "   {'tool_input': 'What is the danger for the ambitious according to the text?'}]},\n",
    " {'question': 'What is the most distinctive thing about Y Combinator?',\n",
    "  'answer': 'The most distinctive thing about YC is the batch model: to fund a bunch of startups all at once, twice a year, and then to spend three months focusing intensively on trying to help them.',\n",
    "  'steps': [{'tool': 'Paul Graham QA System'},\n",
    "   {'tool_input': 'What is the most distinctive thing about Y Combinator?'}]},\n",
    " {'question': 'What was the Summer Founders Program and how many groups were selected for funding?',\n",
    "  'answer': 'The Summer Founders Program was a program for undergrads to apply for funding for their startup ideas. 8 groups were selected for funding out of 225 applications.',\n",
    "  'steps': [{'tool': 'Paul Graham QA System'},\n",
    "   {'tool_input': 'What was the Summer Founders Program and how many groups were selected for funding?'}]},\n",
    " {'question': 'What was the biggest source of stress for the author while working at YC?',\n",
    "  'answer': 'HN (Hacker News)',\n",
    "  'steps': [{'tool': 'Paul Graham QA System'},\n",
    "   {'tool_input': 'What was the biggest source of stress for the author while working at YC?'}]},\n",
    " {'question': 'What did the author decide to do after leaving YC?',\n",
    "  'answer': 'The author decided to focus on painting.',\n",
    "  'steps': [{'tool': 'Paul Graham QA System'},\n",
    "   {'tool_input': 'What did the author decide to do after leaving YC?'}]},\n",
    " {'question': 'What is the distinctive thing about Lisp?',\n",
    "  'answer': 'The distinctive thing about Lisp is that its core is a language defined by writing an interpreter in itself.',\n",
    "  'steps': [{'tool': 'Paul Graham QA System'},\n",
    "   {'tool_input': 'What is the distinctive thing about Lisp?'}]},\n",
    " {'question': 'Why did the author move to England?',\n",
    "  'answer': 'The author moved to England to let their kids experience living in another country and because the author was a British citizen by birth.',\n",
    "  'steps': [{'tool': 'Paul Graham QA System'},\n",
    "   {'tool_input': 'Why did the author move to England?'}]},\n",
    " {'question': 'What was the reason behind the change of name from Cambridge Seed to Y Combinator?',\n",
    "  'answer': \"They didn't want a regional name, in case someone copied them in Silicon Valley, so they renamed themselves after one of the coolest tricks in the lambda calculus, the Y combinator.\",\n",
    "  'steps': [{'tool': 'Paul Graham QA System'},\n",
    "   {'tool_input': 'What was the reason behind the change of name from Cambridge Seed to Y Combinator?'}]},\n",
    " {'question': 'What is the purpose of YC?',\n",
    "  'answer': 'The purpose of YC is to cause startups to be founded that would not otherwise have existed.',\n",
    "  'steps': [{'tool': 'Paul Graham QA System'},\n",
    "   {'tool_input': 'What is the purpose of YC?'}]}]"
   ]
  },
  {
   "cell_type": "code",
   "execution_count": null,
   "id": "cf7524b1",
   "metadata": {},
   "outputs": [],
   "source": []
  }
 ],
 "metadata": {
  "kernelspec": {
   "display_name": "Python 3 (ipykernel)",
   "language": "python",
   "name": "python3"
  },
  "language_info": {
   "codemirror_mode": {
    "name": "ipython",
    "version": 3
   },
   "file_extension": ".py",
   "mimetype": "text/x-python",
   "name": "python",
   "nbconvert_exporter": "python",
   "pygments_lexer": "ipython3",
   "version": "3.9.1"
  }
 },
 "nbformat": 4,
 "nbformat_minor": 5
}
